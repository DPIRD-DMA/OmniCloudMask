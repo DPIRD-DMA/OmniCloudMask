{
 "cells": [
  {
   "cell_type": "code",
   "execution_count": null,
   "id": "2b30f84e",
   "metadata": {},
   "outputs": [],
   "source": [
    "from pathlib import Path\n",
    "from omnicloudmask import predict_from_array, load_multiband, predict_from_load_func\n",
    "from functools import partial"
   ]
  },
  {
   "cell_type": "markdown",
   "id": "5bae0da9",
   "metadata": {},
   "source": [
    "If you have a single PlanetScope scene that you want a numpy cloud mask for, do this"
   ]
  },
  {
   "cell_type": "code",
   "execution_count": null,
   "id": "689b82a3",
   "metadata": {},
   "outputs": [],
   "source": [
    "path_to_PS_tif = Path(\"/example/path/20171229_033105_0f1a_3B_AnalyticMS_SR.tif\")"
   ]
  },
  {
   "cell_type": "code",
   "execution_count": null,
   "id": "7648eb93",
   "metadata": {},
   "outputs": [],
   "source": [
    "# note that you need to provide the indexes for the red green and NIR bands\n",
    "# this uses rasterio band order, so the first band is 1 (NOT 0)\n",
    "# for a 4 band PlanetScope scene, the order is:\n",
    "# 1:blue, 2:green, 3:red, 4:NIR so we use [3, 2, 4] for RG+NIR\n",
    "PS_band_order = [3, 2, 4]"
   ]
  },
  {
   "cell_type": "code",
   "execution_count": null,
   "id": "39429cc5",
   "metadata": {},
   "outputs": [],
   "source": [
    "scene, rio_profile = load_multiband(\n",
    "    input_path=path_to_PS_tif, resample_res=10, band_order=PS_band_order\n",
    ")"
   ]
  },
  {
   "cell_type": "code",
   "execution_count": null,
   "id": "14294b17",
   "metadata": {},
   "outputs": [],
   "source": [
    "OCM_mask = predict_from_array(input_array=scene, patch_size=500)"
   ]
  },
  {
   "cell_type": "markdown",
   "id": "2ec3f4a1",
   "metadata": {},
   "source": [
    "If you have many Planetscope scenes then try this approach"
   ]
  },
  {
   "cell_type": "code",
   "execution_count": null,
   "id": "d05ce2f1",
   "metadata": {},
   "outputs": [],
   "source": [
    "path_to_scene_path = Path(\"/example/path/planetscope_scenes\")\n",
    "planetscope_scenes = list(path_to_scene_path.glob(\"*.tif\"))\n",
    "print(f\"Found {len(planetscope_scenes)} PlanetScope scenes\")"
   ]
  },
  {
   "cell_type": "code",
   "execution_count": null,
   "id": "41109440",
   "metadata": {},
   "outputs": [],
   "source": [
    "mask_export_path = Path(\"/example/path/output\")"
   ]
  },
  {
   "cell_type": "code",
   "execution_count": null,
   "id": "cebd853e",
   "metadata": {},
   "outputs": [],
   "source": [
    "planet_scope_load_func = partial(\n",
    "    load_multiband,\n",
    "    resample_res=10,\n",
    "    band_order=PS_band_order,\n",
    ")"
   ]
  },
  {
   "cell_type": "code",
   "execution_count": null,
   "id": "8d510302",
   "metadata": {},
   "outputs": [],
   "source": [
    "path_to_masks = predict_from_load_func(\n",
    "    scene_paths=planetscope_scenes,\n",
    "    load_func=planet_scope_load_func,\n",
    "    patch_size=500,\n",
    "    output_dir=mask_export_path,\n",
    ")"
   ]
  }
 ],
 "metadata": {
  "kernelspec": {
   "display_name": "omnicloudmask",
   "language": "python",
   "name": "python3"
  },
  "language_info": {
   "codemirror_mode": {
    "name": "ipython",
    "version": 3
   },
   "file_extension": ".py",
   "mimetype": "text/x-python",
   "name": "python",
   "nbconvert_exporter": "python",
   "pygments_lexer": "ipython3",
   "version": "3.11.11"
  }
 },
 "nbformat": 4,
 "nbformat_minor": 5
}
