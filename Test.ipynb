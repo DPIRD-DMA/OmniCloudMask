{
 "cells": [
  {
   "cell_type": "code",
   "execution_count": 1,
   "metadata": {},
   "outputs": [],
   "source": [
    "import gdown\n",
    "import requests\n",
    "import zipfile\n",
    "from functools import partial\n",
    "from pathlib import Path\n",
    "import rasterio as rio\n",
    "from matplotlib import pyplot as plt\n",
    "from omnicloudmask import (\n",
    "    predict_from_load_func,\n",
    "    predict_from_array,\n",
    "    load_ls8,\n",
    "    load_multiband,\n",
    "    load_s2,\n",
    ")"
   ]
  },
  {
   "cell_type": "code",
   "execution_count": 2,
   "metadata": {},
   "outputs": [],
   "source": [
    "test_data_dir = Path(\"test data\")\n",
    "test_data_dir.mkdir(exist_ok=True)"
   ]
  },
  {
   "cell_type": "code",
   "execution_count": 3,
   "metadata": {},
   "outputs": [],
   "source": [
    "test_data_liks = {\n",
    "    \"LC81960302014022LGN00\": \"1ewmbD2YzxUS2IibMW5GTbcQyZIoz0TNf\",\n",
    "    \"S2B_MSIL1C_20180302T150259_N0206_R125_T22WES_20180302T183800.SAFE\": \"1pGu_RdboqYcK4Q6_kjpnynCSzmNdUgcW\",\n",
    "    \"S2A_MSIL2A_20170725T142751_N9999_R053_T19GBQ_20240410T040247.SAFE\": \"1ZEfXnNpWi75OV6fVhNvzbe6MhxsvXSI3\",\n",
    "}"
   ]
  },
  {
   "cell_type": "code",
   "execution_count": 4,
   "metadata": {},
   "outputs": [],
   "source": [
    "def download_file_from_google_drive(file_id: str, destination: Path) -> None:\n",
    "    url = f\"https://drive.google.com/uc?id={file_id}\"\n",
    "    gdown.download(url, str(destination), quiet=False)"
   ]
  },
  {
   "cell_type": "code",
   "execution_count": 5,
   "metadata": {},
   "outputs": [],
   "source": [
    "for file_name, file_id in test_data_liks.items():\n",
    "    zip_file = test_data_dir / f\"{file_name}.zip\"\n",
    "    if not zip_file.exists():\n",
    "        download_file_from_google_drive(file_id, zip_file)\n",
    "\n",
    "    with zipfile.ZipFile(zip_file, \"r\") as zip_ref:\n",
    "        zip_ref.extractall(test_data_dir / file_name)"
   ]
  },
  {
   "cell_type": "code",
   "execution_count": null,
   "metadata": {},
   "outputs": [],
   "source": [
    "maxar_url = \"https://maxar-opendata.s3.us-west-2.amazonaws.com/events/Emilia-Romagna-Italy-flooding-may23/ard/32/120000303231/2023-05-23/1050010033C95B00-ms.tif\"\n",
    "maxar_path = test_data_dir / \"maxar.tif\"\n",
    "if not maxar_path.exists():\n",
    "    with requests.get(maxar_url, stream=True) as response:\n",
    "        with open(maxar_path, \"wb\") as f:\n",
    "            for chunk in response.iter_content(chunk_size=8192):\n",
    "                f.write(chunk)"
   ]
  },
  {
   "cell_type": "code",
   "execution_count": null,
   "metadata": {},
   "outputs": [],
   "source": [
    "s2_l2a_Path = (\n",
    "    test_data_dir / \"S2A_MSIL2A_20170725T142751_N9999_R053_T19GBQ_20240410T040247.SAFE\"\n",
    ")\n",
    "s2_l1c_Path = (\n",
    "    test_data_dir / \"S2B_MSIL1C_20180302T150259_N0206_R125_T22WES_20180302T183800.SAFE\"\n",
    ")\n",
    "ls_path = test_data_dir / \"LC81960302014022LGN00\"\n",
    "s2_l1c_Path.exists(), s2_l2a_Path.exists(), ls_path.exists()"
   ]
  },
  {
   "cell_type": "code",
   "execution_count": null,
   "metadata": {},
   "outputs": [],
   "source": [
    "s2_items = [s2_l2a_Path, s2_l1c_Path]\n",
    "ls_items = [ls_path]"
   ]
  },
  {
   "cell_type": "code",
   "execution_count": null,
   "metadata": {},
   "outputs": [],
   "source": [
    "load_multiband_maxar = partial(load_multiband, resample_res=10, band_order=[1, 2, 4])"
   ]
  },
  {
   "cell_type": "code",
   "execution_count": null,
   "metadata": {},
   "outputs": [],
   "source": [
    "pred_paths = predict_from_load_func(\n",
    "    load_func=load_s2, scene_paths=s2_items, inference_dtype=\"bf16\", batch_size=2\n",
    ")"
   ]
  },
  {
   "cell_type": "code",
   "execution_count": null,
   "metadata": {},
   "outputs": [],
   "source": [
    "fig, axs = plt.subplots(1, 2, figsize=(10, 5))\n",
    "for ax, path in zip(axs, pred_paths):\n",
    "    with rio.open(path) as src:\n",
    "        ax.imshow(src.read(1))\n",
    "plt.show()"
   ]
  },
  {
   "cell_type": "code",
   "execution_count": null,
   "metadata": {},
   "outputs": [],
   "source": [
    "load_s2_21m = partial(load_s2, resolution=21.0)\n",
    "pred_paths = predict_from_load_func(\n",
    "    load_func=load_s2_21m, scene_paths=s2_items, inference_dtype=\"bf16\", batch_size=2\n",
    ")"
   ]
  },
  {
   "cell_type": "code",
   "execution_count": null,
   "metadata": {},
   "outputs": [],
   "source": [
    "fig, axs = plt.subplots(1, 2, figsize=(10, 5))\n",
    "for ax, path in zip(axs, pred_paths):\n",
    "    with rio.open(path) as src:\n",
    "        ax.imshow(src.read(1))\n",
    "plt.show()"
   ]
  },
  {
   "cell_type": "code",
   "execution_count": null,
   "metadata": {},
   "outputs": [],
   "source": [
    "pred_paths = predict_from_load_func(\n",
    "    load_func=load_ls8, scene_paths=ls_items, inference_dtype=\"bf16\", batch_size=2\n",
    ")\n",
    "\n",
    "pred_array = rio.open(pred_paths[0]).read(1)\n",
    "plt.imshow(pred_array, vmin=0, vmax=3)"
   ]
  },
  {
   "cell_type": "code",
   "execution_count": null,
   "metadata": {},
   "outputs": [],
   "source": [
    "pred_paths = predict_from_load_func(\n",
    "    load_func=load_multiband_maxar,\n",
    "    scene_paths=[maxar_path],\n",
    "    inference_dtype=\"bf16\",\n",
    "    batch_size=2,\n",
    ")\n",
    "\n",
    "pred_array = rio.open(pred_paths[0]).read(1)\n",
    "plt.imshow(pred_array, vmin=0, vmax=3)"
   ]
  },
  {
   "cell_type": "code",
   "execution_count": null,
   "metadata": {},
   "outputs": [],
   "source": [
    "for dtype in [\"float32\", \"float16\", \"bfloat16\"]:\n",
    "    pred_paths = predict_from_load_func(\n",
    "        load_func=load_multiband_maxar,\n",
    "        scene_paths=[maxar_path],\n",
    "        inference_dtype=dtype,\n",
    "        batch_size=2,\n",
    "    )\n",
    "\n",
    "pred_array = rio.open(pred_paths[0]).read(1)\n",
    "plt.imshow(pred_array, vmin=0, vmax=3)"
   ]
  },
  {
   "cell_type": "code",
   "execution_count": null,
   "metadata": {},
   "outputs": [],
   "source": [
    "RGNIR_array = load_multiband_maxar(maxar_path)[0]\n",
    "pred_array = predict_from_array(RGNIR_array)\n",
    "plt.imshow(pred_array[0], vmin=0, vmax=3)"
   ]
  },
  {
   "cell_type": "code",
   "execution_count": null,
   "metadata": {},
   "outputs": [],
   "source": [
    "pred_paths = predict_from_load_func(\n",
    "    load_func=load_multiband_maxar,\n",
    "    scene_paths=[maxar_path],\n",
    "    inference_device=\"cpu\",\n",
    ")\n",
    "\n",
    "pred_array = rio.open(pred_paths[0]).read(1)\n",
    "plt.imshow(pred_array, vmin=0, vmax=3)"
   ]
  },
  {
   "cell_type": "code",
   "execution_count": null,
   "metadata": {},
   "outputs": [],
   "source": []
  }
 ],
 "metadata": {
  "kernelspec": {
   "display_name": "ml311",
   "language": "python",
   "name": "python3"
  },
  "language_info": {
   "codemirror_mode": {
    "name": "ipython",
    "version": 3
   },
   "file_extension": ".py",
   "mimetype": "text/x-python",
   "name": "python",
   "nbconvert_exporter": "python",
   "pygments_lexer": "ipython3",
   "version": "3.11.8"
  }
 },
 "nbformat": 4,
 "nbformat_minor": 2
}
