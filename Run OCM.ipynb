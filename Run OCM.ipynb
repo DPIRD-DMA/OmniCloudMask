{
 "cells": [
  {
   "cell_type": "code",
   "execution_count": 1,
   "metadata": {},
   "outputs": [],
   "source": [
    "from functools import partial\n",
    "from pathlib import Path\n",
    "from ocm import (\n",
    "    predict_from_load_func,\n",
    "    predict_from_array,\n",
    "    load_ls8,\n",
    "    load_multiband,\n",
    "    load_s2,\n",
    ")"
   ]
  },
  {
   "cell_type": "code",
   "execution_count": 11,
   "metadata": {},
   "outputs": [],
   "source": [
    "# folder = Path(\n",
    "#     \"/media/nick/4TB Working 3/Projects/PlanetScope cloud mask/CMIX test/Sentinel-2_L1C/L2A\"\n",
    "# )\n",
    "\n",
    "# folder = Path(\n",
    "#     \"/media/nick/4TB Working 3/Projects/PlanetScope cloud mask/CMIX test/Sentinel-2_L1C/L1C\"\n",
    "# )\n",
    "# ____________________________________________________________________________________________\n",
    "\n",
    "folder = Path(\n",
    "    \"/home/nick/Documents/Work code/Planet-mask/validation/PlanetScope/downloaded data\"\n",
    ")\n",
    "# ____________________________________________________________________________________________\n",
    "\n",
    "\n",
    "# folder = Path(\n",
    "#     \"/media/nick/4TB Working 3/Projects/PlanetScope cloud mask/LandSat CMIX/Full scenes/for Fmask\"\n",
    "# )\n",
    "# folder = Path(\n",
    "#     \"/media/nick/4TB Working 4/Projects/Sentinel cloud masking/time test/extracted\"\n",
    "# )\n",
    "# ____________________________________________________________________________________________\n",
    "# folder = Path(\n",
    "#     \"/media/nick/4TB Working 3/Projects/PlanetScope cloud mask/CMIX test/PS mask\"\n",
    "# )\n",
    "# folder = Path(\n",
    "#     \"/media/nick/4TB Working 3/Projects/PlanetScope cloud mask/LandSat CMIX/RGBNIR\"\n",
    "# )\n",
    "\n",
    "\n",
    "# folder = Path(\n",
    "#     \"/media/nick/4TB Working 3/Projects/PlanetScope cloud mask/LandSat CMIX/Full scenes/for Fmask\"\n",
    "# )\n",
    "\n",
    "# folder = Path(\n",
    "#     \"/media/nick/4TB Working 3/Projects/PlanetScope cloud mask/LandSat CMIX/Full scenes/L2 scenes\"\n",
    "# )"
   ]
  },
  {
   "cell_type": "code",
   "execution_count": 12,
   "metadata": {},
   "outputs": [
    {
     "data": {
      "text/plain": [
       "True"
      ]
     },
     "execution_count": 12,
     "metadata": {},
     "output_type": "execute_result"
    }
   ],
   "source": [
    "folder.exists()"
   ]
  },
  {
   "cell_type": "markdown",
   "metadata": {},
   "source": []
  },
  {
   "cell_type": "code",
   "execution_count": 13,
   "metadata": {},
   "outputs": [
    {
     "data": {
      "text/plain": [
       "18"
      ]
     },
     "execution_count": 13,
     "metadata": {},
     "output_type": "execute_result"
    }
   ],
   "source": [
    "scenes = list(folder.rglob(\"*.vrt\"))\n",
    "scenes += list(folder.rglob(\"*LGN00.tif\"))\n",
    "scenes += list(folder.rglob(\"*_SR_8b.tif\"))\n",
    "scenes += list(folder.rglob(\"*.SAFE\"))\n",
    "scenes += list(folder.rglob(\"*_T1\"))\n",
    "\n",
    "# scenes = list(folder.glob(\"*.SAFE\"))\n",
    "\n",
    "len(scenes)"
   ]
  },
  {
   "cell_type": "code",
   "execution_count": null,
   "metadata": {},
   "outputs": [],
   "source": []
  },
  {
   "cell_type": "code",
   "execution_count": 5,
   "metadata": {},
   "outputs": [
    {
     "data": {
      "text/plain": [
       "[PosixPath('/home/nick/Documents/Work code/Planet-mask/validation/PlanetScope/downloaded data/20230821_172926_55_24c4_3B_AnalyticMS_SR_8b.tif'),\n",
       " PosixPath('/home/nick/Documents/Work code/Planet-mask/validation/PlanetScope/downloaded data/20230923_180857_76_2483_3B_AnalyticMS_SR_8b.tif'),\n",
       " PosixPath('/home/nick/Documents/Work code/Planet-mask/validation/PlanetScope/downloaded data/20231017_074706_29_24cc_3B_AnalyticMS_SR_8b.tif'),\n",
       " PosixPath('/home/nick/Documents/Work code/Planet-mask/validation/PlanetScope/downloaded data/20231028_100622_62_2440_3B_AnalyticMS_SR_8b.tif'),\n",
       " PosixPath('/home/nick/Documents/Work code/Planet-mask/validation/PlanetScope/downloaded data/20231020_040648_68_24ba_3B_AnalyticMS_SR_8b.tif'),\n",
       " PosixPath('/home/nick/Documents/Work code/Planet-mask/validation/PlanetScope/downloaded data/20231028_112441_43_247d_3B_AnalyticMS_SR_8b.tif'),\n",
       " PosixPath('/home/nick/Documents/Work code/Planet-mask/validation/PlanetScope/downloaded data/20230814_134236_48_242e_3B_AnalyticMS_SR_8b.tif'),\n",
       " PosixPath('/home/nick/Documents/Work code/Planet-mask/validation/PlanetScope/downloaded data/20231023_100346_43_24bf_3B_AnalyticMS_SR_8b.tif'),\n",
       " PosixPath('/home/nick/Documents/Work code/Planet-mask/validation/PlanetScope/downloaded data/20231021_172556_48_24ab_3B_AnalyticMS_SR_8b.tif'),\n",
       " PosixPath('/home/nick/Documents/Work code/Planet-mask/validation/PlanetScope/downloaded data/20231026_105053_18_247d_3B_AnalyticMS_SR_8b.tif'),\n",
       " PosixPath('/home/nick/Documents/Work code/Planet-mask/validation/PlanetScope/downloaded data/20231010_020137_28_2424_3B_AnalyticMS_SR_8b.tif'),\n",
       " PosixPath('/home/nick/Documents/Work code/Planet-mask/validation/PlanetScope/downloaded data/20231028_122611_96_2475_3B_AnalyticMS_SR_8b.tif'),\n",
       " PosixPath('/home/nick/Documents/Work code/Planet-mask/validation/PlanetScope/downloaded data/20231027_104734_71_24ab_3B_AnalyticMS_SR_8b.tif'),\n",
       " PosixPath('/home/nick/Documents/Work code/Planet-mask/validation/PlanetScope/downloaded data/20231018_003511_81_24b4_3B_AnalyticMS_SR_8b.tif'),\n",
       " PosixPath('/home/nick/Documents/Work code/Planet-mask/validation/PlanetScope/downloaded data/20231002_235222_22_24b9_3B_AnalyticMS_SR_8b.tif'),\n",
       " PosixPath('/home/nick/Documents/Work code/Planet-mask/validation/PlanetScope/downloaded data/20231007_120440_68_24c0_3B_AnalyticMS_SR_8b.tif'),\n",
       " PosixPath('/home/nick/Documents/Work code/Planet-mask/validation/PlanetScope/downloaded data/20231012_170140_16_2495_3B_AnalyticMS_SR_8b.tif'),\n",
       " PosixPath('/home/nick/Documents/Work code/Planet-mask/validation/PlanetScope/downloaded data/20231006_134506_55_24b0_3B_AnalyticMS_SR_8b.tif')]"
      ]
     },
     "execution_count": 5,
     "metadata": {},
     "output_type": "execute_result"
    }
   ],
   "source": [
    "scenes"
   ]
  },
  {
   "cell_type": "code",
   "execution_count": 6,
   "metadata": {},
   "outputs": [],
   "source": [
    "# model_paths = [\n",
    "# Path(\n",
    "#     \"/home/nick/Documents/Work code/Planet-mask/setup notebooks/models/PM_model_2.2.10_RG_NIR_509_convnextv2_nano.fcmae_ft_in1k_PT.pth\"\n",
    "# ),\n",
    "# Path(\n",
    "#     \"/home/nick/Documents/Work code/Planet-mask/setup notebooks/models/PM_model_2.2.10_RG_NIR_509_regnety_004.pycls_in1k_PT.pth\"\n",
    "# ),\n",
    "# No Augs\n",
    "# Path(\n",
    "#     \"/home/nick/Documents/Work code/Planet-mask/setup notebooks/models/PM_model_2.2.15_RG_NIR_no_aug_509_convnextv2_nano.fcmae_ft_in1k_PT.pth\"\n",
    "# ),\n",
    "# Path(\n",
    "#     \"/home/nick/Documents/Work code/Planet-mask/setup notebooks/models/PM_model_2.2.15_RG_NIR_no_aug_509_regnety_004.pycls_in1k_PT.pth\"\n",
    "# ),\n",
    "# Basic Augs\n",
    "# Path(\n",
    "#     \"/home/nick/Documents/Work code/Planet-mask/setup notebooks/models/PM_model_2.2.15_RG_NIR_basic_aug_509_convnextv2_nano.fcmae_ft_in1k_PT.pth\"\n",
    "# ),\n",
    "# Path(\n",
    "#     \"/home/nick/Documents/Work code/Planet-mask/setup notebooks/models/PM_model_2.2.15_RG_NIR_basic_aug_509_regnety_004.pycls_in1k_PT.pth\"\n",
    "# ),\n",
    "# basic with RandRect\n",
    "# Path(\n",
    "#     \"/home/nick/Documents/Work code/Planet-mask/setup notebooks/models/PM_model_2.2.15_RG_NIR_basic_aug_with_Rand_Rect_509_convnextv2_nano.fcmae_ft_in1k_PT.pth\"\n",
    "# ),\n",
    "# Path(\n",
    "#     \"/home/nick/Documents/Work code/Planet-mask/setup notebooks/models/PM_model_2.2.15_RG_NIR_basic_aug_with_Rand_Rect_509_regnety_004.pycls_in1k_PT.pth\"\n",
    "# ),\n",
    "# basic with RandRect and SceneEdge\n",
    "# Path(\n",
    "#     \"/home/nick/Documents/Work code/Planet-mask/setup notebooks/models/PM_model_2.2.15_RG_NIR_basic_aug_with_Rand_Rect_SceneEdge_509_regnety_004.pycls_in1k_PT.pth\"\n",
    "# ),\n",
    "# Path(\n",
    "#     \"/home/nick/Documents/Work code/Planet-mask/setup notebooks/models/PM_model_2.2.15_RG_NIR_basic_aug_with_Rand_Rect_SceneEdge_509_convnextv2_nano.fcmae_ft_in1k_PT.pth\"\n",
    "# ),\n",
    "# 10 m Only\n",
    "# Path(\n",
    "#     \"/home/nick/Documents/Work code/Planet-mask/setup notebooks/models/PM_model_2.2.15_RG_NIR_10m_only_509_convnextv2_nano.fcmae_ft_in1k_PT.pth\"\n",
    "# ),\n",
    "# Path(\n",
    "#     \"/home/nick/Documents/Work code/Planet-mask/setup notebooks/models/PM_model_2.2.15_RG_NIR_10m_only_509_regnety_004.pycls_in1k_PT.pth\"\n",
    "# ),\n",
    "# min-max norm\n",
    "# Path(\n",
    "#     \"/home/nick/Documents/Work code/Planet-mask/setup notebooks/models/PM_model_2.2.15_RG_NIR_min_max_norm_509_convnextv2_nano.fcmae_ft_in1k_PT.pth\"\n",
    "# ),\n",
    "# Path(\n",
    "#     \"/home/nick/Documents/Work code/Planet-mask/setup notebooks/models/PM_model_2.2.15_RG_NIR_min_max_norm_509_regnety_004.pycls_in1k_PT.pth\"\n",
    "# ),\n",
    "# z-score norm\n",
    "# Path(\n",
    "#     \"/home/nick/Documents/Work code/Planet-mask/setup notebooks/models/PM_model_2.2.15_RG_NIR_z-score_509_regnety_004.pycls_in1k_PT.pth\"\n",
    "# ),\n",
    "# Path(\n",
    "#     \"/home/nick/Documents/Work code/Planet-mask/setup notebooks/models/PM_model_2.2.15_RG_NIR_z-score_509_convnextv2_nano.fcmae_ft_in1k_PT.pth\"\n",
    "# ),\n",
    "# ]"
   ]
  },
  {
   "cell_type": "code",
   "execution_count": 7,
   "metadata": {},
   "outputs": [],
   "source": [
    "load_multiband_ps = partial(load_multiband, resample_res=10, band_order=[6, 4, 8])"
   ]
  },
  {
   "cell_type": "code",
   "execution_count": 8,
   "metadata": {},
   "outputs": [],
   "source": [
    "batch_size = 4"
   ]
  },
  {
   "cell_type": "code",
   "execution_count": 9,
   "metadata": {},
   "outputs": [
    {
     "name": "stdout",
     "output_type": "stream",
     "text": [
      "Loading PM_model_2.2.10_RG_NIR_509_convnextv2_nano.fcmae_ft_in1k_PT.pth\n",
      "Loading PM_model_2.2.10_RG_NIR_509_regnety_004.pycls_in1k_PT.pth\n"
     ]
    },
    {
     "data": {
      "application/vnd.jupyter.widget-view+json": {
       "model_id": "bf8301a4ba564d99aeeff2cac343366c",
       "version_major": 2,
       "version_minor": 0
      },
      "text/plain": [
       "Running inference using cuda bfloat16:   0%|          | 0/18 [00:00<?, ?it/s]"
      ]
     },
     "metadata": {},
     "output_type": "display_data"
    }
   ],
   "source": [
    "p = predict_from_load_func(\n",
    "    scene_paths=scenes,\n",
    "    # load_func=load_s2,\n",
    "    # load_func=load_ls8,\n",
    "    load_func=load_multiband_ps,\n",
    "    # model_paths=model_paths,\n",
    "    batch_size=batch_size,\n",
    "    inference_dtype=\"bf16\",\n",
    "    version=f\"vb1.224\",\n",
    "    # version=f\"vb1.224_dl_test\",\n",
    "    overwrite=True,\n",
    "    # apply_no_data_mask=True,\n",
    "    inference_device=\"cuda\",\n",
    "    # mosaic_device=\"cpu\",\n",
    "    # export_confidence=True,\n",
    ")"
   ]
  },
  {
   "cell_type": "code",
   "execution_count": null,
   "metadata": {},
   "outputs": [],
   "source": []
  }
 ],
 "metadata": {
  "kernelspec": {
   "display_name": "c2m_trt",
   "language": "python",
   "name": "python3"
  },
  "language_info": {
   "codemirror_mode": {
    "name": "ipython",
    "version": 3
   },
   "file_extension": ".py",
   "mimetype": "text/x-python",
   "name": "python",
   "nbconvert_exporter": "python",
   "pygments_lexer": "ipython3",
   "version": "3.11.8"
  }
 },
 "nbformat": 4,
 "nbformat_minor": 2
}
