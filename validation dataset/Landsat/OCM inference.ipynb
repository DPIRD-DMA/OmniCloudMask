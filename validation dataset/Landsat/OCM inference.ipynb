{
 "cells": [
  {
   "cell_type": "code",
   "execution_count": 1,
   "metadata": {},
   "outputs": [],
   "source": [
    "import sys\n",
    "from pathlib import Path\n",
    "\n",
    "sys.path.append(Path.cwd().parents[1].as_posix())\n",
    "import omnicloudmask\n",
    "from omnicloudmask import (\n",
    "    predict_from_load_func,\n",
    "    load_ls8,\n",
    ")"
   ]
  },
  {
   "cell_type": "code",
   "execution_count": 2,
   "metadata": {},
   "outputs": [
    {
     "data": {
      "text/plain": [
       "'1.5.0'"
      ]
     },
     "execution_count": 2,
     "metadata": {},
     "output_type": "execute_result"
    }
   ],
   "source": [
    "ocm_version = omnicloudmask.__version__\n",
    "ocm_version"
   ]
  },
  {
   "cell_type": "code",
   "execution_count": 3,
   "metadata": {},
   "outputs": [],
   "source": [
    "dataset_dir = Path(\"dataset\")"
   ]
  },
  {
   "cell_type": "code",
   "execution_count": 4,
   "metadata": {},
   "outputs": [],
   "source": [
    "scenes_dir = dataset_dir / \"Landsat8_L1\"\n",
    "preds_dir = dataset_dir / f\"OCM preds v{ocm_version}\"\n",
    "preds_dir.mkdir(exist_ok=True)"
   ]
  },
  {
   "cell_type": "code",
   "execution_count": 5,
   "metadata": {},
   "outputs": [
    {
     "data": {
      "text/plain": [
       "11"
      ]
     },
     "execution_count": 5,
     "metadata": {},
     "output_type": "execute_result"
    }
   ],
   "source": [
    "scenes = list(scenes_dir.glob(\"LC8*\"))\n",
    "len(scenes)"
   ]
  },
  {
   "cell_type": "code",
   "execution_count": 6,
   "metadata": {},
   "outputs": [
    {
     "data": {
      "application/vnd.jupyter.widget-view+json": {
       "model_id": "b7c3a2baf3c3491d9331d29075d94587",
       "version_major": 2,
       "version_minor": 0
      },
      "text/plain": [
       "Running inference using cuda bfloat16:   0%|          | 0/11 [00:00<?, ?it/s]"
      ]
     },
     "metadata": {},
     "output_type": "display_data"
    }
   ],
   "source": [
    "preds = predict_from_load_func(\n",
    "    scene_paths=scenes,\n",
    "    load_func=load_ls8,\n",
    "    batch_size=1,\n",
    "    output_dir=preds_dir,\n",
    "    inference_dtype=\"bf16\",\n",
    ")"
   ]
  },
  {
   "cell_type": "code",
   "execution_count": 7,
   "metadata": {},
   "outputs": [
    {
     "data": {
      "text/plain": [
       "Path('dataset/OCM preds v1.5.0')"
      ]
     },
     "execution_count": 7,
     "metadata": {},
     "output_type": "execute_result"
    }
   ],
   "source": [
    "# This is the model output directory\n",
    "preds[0].parent"
   ]
  }
 ],
 "metadata": {
  "kernelspec": {
   "display_name": "omnicloudmask (3.11.11)",
   "language": "python",
   "name": "python3"
  },
  "language_info": {
   "codemirror_mode": {
    "name": "ipython",
    "version": 3
   },
   "file_extension": ".py",
   "mimetype": "text/x-python",
   "name": "python",
   "nbconvert_exporter": "python",
   "pygments_lexer": "ipython3",
   "version": "3.11.11"
  }
 },
 "nbformat": 4,
 "nbformat_minor": 2
}
