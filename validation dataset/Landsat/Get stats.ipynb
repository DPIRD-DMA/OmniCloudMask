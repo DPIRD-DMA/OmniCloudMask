{
 "cells": [
  {
   "cell_type": "code",
   "execution_count": 1,
   "metadata": {},
   "outputs": [],
   "source": [
    "import rasterio as rio\n",
    "import pandas as pd\n",
    "from pathlib import Path\n",
    "import numpy as np\n",
    "import sys\n",
    "\n",
    "sys.path.append(Path.cwd().parents[1].as_posix())\n",
    "import omnicloudmask"
   ]
  },
  {
   "cell_type": "code",
   "execution_count": 2,
   "metadata": {},
   "outputs": [
    {
     "name": "stdout",
     "output_type": "stream",
     "text": [
      "OmniCloudMask version: 1.3.1\n"
     ]
    }
   ],
   "source": [
    "ocm_version = omnicloudmask.__version__\n",
    "print(f\"OmniCloudMask version: {ocm_version}\")"
   ]
  },
  {
   "cell_type": "code",
   "execution_count": 3,
   "metadata": {},
   "outputs": [],
   "source": [
    "dataset_dir = Path(\"dataset\")\n",
    "val_points_path = dataset_dir / \"PixBox-L8-CMIX/pixbox_landsat8_cmix_20150527.csv\""
   ]
  },
  {
   "cell_type": "code",
   "execution_count": 4,
   "metadata": {},
   "outputs": [
    {
     "name": "stdout",
     "output_type": "stream",
     "text": [
      "Predictions directory: dataset/OCM preds v1.3.1\n"
     ]
    },
    {
     "data": {
      "text/plain": [
       "True"
      ]
     },
     "execution_count": 4,
     "metadata": {},
     "output_type": "execute_result"
    }
   ],
   "source": [
    "# Point at the predictions directory\n",
    "preds_dir = dataset_dir / f\"OCM preds v{ocm_version}\"\n",
    "print(f\"Predictions directory: {preds_dir}\")\n",
    "preds_dir.exists()"
   ]
  },
  {
   "cell_type": "code",
   "execution_count": 5,
   "metadata": {},
   "outputs": [
    {
     "data": {
      "text/html": [
       "<div>\n",
       "<style scoped>\n",
       "    .dataframe tbody tr th:only-of-type {\n",
       "        vertical-align: middle;\n",
       "    }\n",
       "\n",
       "    .dataframe tbody tr th {\n",
       "        vertical-align: top;\n",
       "    }\n",
       "\n",
       "    .dataframe thead th {\n",
       "        text-align: right;\n",
       "    }\n",
       "</style>\n",
       "<table border=\"1\" class=\"dataframe\">\n",
       "  <thead>\n",
       "    <tr style=\"text-align: right;\">\n",
       "      <th></th>\n",
       "      <th>ID</th>\n",
       "      <th>PRODUCT_ID</th>\n",
       "      <th>PIXEL_X</th>\n",
       "      <th>PIXEL_Y</th>\n",
       "      <th>LATITUDE</th>\n",
       "      <th>LONGITUDE</th>\n",
       "      <th>PIXEL_SURFACE_TYPE_ID</th>\n",
       "      <th>ATMOSPHERIC_PROPERTIES_ID</th>\n",
       "      <th>WATER_BODY_TYPE_ID</th>\n",
       "      <th>WATER_BODY_CHARACTERISTICS_ID</th>\n",
       "      <th>GLINT_ID</th>\n",
       "      <th>CLOUD_CHARACTERISTICS_ID</th>\n",
       "      <th>CLOUD_HEIGHT_ID</th>\n",
       "      <th>CLOUD_SHADOW_ID</th>\n",
       "      <th>SHALLOWNESS_ID</th>\n",
       "      <th>SURFACE_TYPE_ID</th>\n",
       "      <th>CLIMATE_ZONE_ID</th>\n",
       "      <th>SEASON_ID</th>\n",
       "      <th>DAY_TIME_ID</th>\n",
       "    </tr>\n",
       "  </thead>\n",
       "  <tbody>\n",
       "    <tr>\n",
       "      <th>0</th>\n",
       "      <td>1191608739</td>\n",
       "      <td>1191608737</td>\n",
       "      <td>5871</td>\n",
       "      <td>2068</td>\n",
       "      <td>43.661255</td>\n",
       "      <td>5.609816</td>\n",
       "      <td>2</td>\n",
       "      <td>0</td>\n",
       "      <td>2</td>\n",
       "      <td>3</td>\n",
       "      <td>0</td>\n",
       "      <td>0</td>\n",
       "      <td>0</td>\n",
       "      <td>0</td>\n",
       "      <td>0</td>\n",
       "      <td>14</td>\n",
       "      <td>3</td>\n",
       "      <td>4</td>\n",
       "      <td>1</td>\n",
       "    </tr>\n",
       "    <tr>\n",
       "      <th>1</th>\n",
       "      <td>1191608740</td>\n",
       "      <td>1191608737</td>\n",
       "      <td>6015</td>\n",
       "      <td>1963</td>\n",
       "      <td>43.688351</td>\n",
       "      <td>5.664592</td>\n",
       "      <td>1</td>\n",
       "      <td>0</td>\n",
       "      <td>2</td>\n",
       "      <td>3</td>\n",
       "      <td>0</td>\n",
       "      <td>0</td>\n",
       "      <td>0</td>\n",
       "      <td>0</td>\n",
       "      <td>0</td>\n",
       "      <td>12</td>\n",
       "      <td>3</td>\n",
       "      <td>4</td>\n",
       "      <td>1</td>\n",
       "    </tr>\n",
       "    <tr>\n",
       "      <th>2</th>\n",
       "      <td>1191608741</td>\n",
       "      <td>1191608737</td>\n",
       "      <td>6075</td>\n",
       "      <td>1939</td>\n",
       "      <td>43.694302</td>\n",
       "      <td>5.687191</td>\n",
       "      <td>1</td>\n",
       "      <td>0</td>\n",
       "      <td>2</td>\n",
       "      <td>3</td>\n",
       "      <td>0</td>\n",
       "      <td>0</td>\n",
       "      <td>0</td>\n",
       "      <td>0</td>\n",
       "      <td>0</td>\n",
       "      <td>12</td>\n",
       "      <td>3</td>\n",
       "      <td>4</td>\n",
       "      <td>1</td>\n",
       "    </tr>\n",
       "    <tr>\n",
       "      <th>3</th>\n",
       "      <td>1191608742</td>\n",
       "      <td>1191608737</td>\n",
       "      <td>6096</td>\n",
       "      <td>1947</td>\n",
       "      <td>43.691959</td>\n",
       "      <td>5.694904</td>\n",
       "      <td>1</td>\n",
       "      <td>0</td>\n",
       "      <td>2</td>\n",
       "      <td>3</td>\n",
       "      <td>0</td>\n",
       "      <td>0</td>\n",
       "      <td>0</td>\n",
       "      <td>0</td>\n",
       "      <td>0</td>\n",
       "      <td>12</td>\n",
       "      <td>3</td>\n",
       "      <td>4</td>\n",
       "      <td>1</td>\n",
       "    </tr>\n",
       "    <tr>\n",
       "      <th>4</th>\n",
       "      <td>1191608743</td>\n",
       "      <td>1191608737</td>\n",
       "      <td>6049</td>\n",
       "      <td>1948</td>\n",
       "      <td>43.692101</td>\n",
       "      <td>5.677414</td>\n",
       "      <td>1</td>\n",
       "      <td>0</td>\n",
       "      <td>2</td>\n",
       "      <td>3</td>\n",
       "      <td>0</td>\n",
       "      <td>0</td>\n",
       "      <td>0</td>\n",
       "      <td>0</td>\n",
       "      <td>0</td>\n",
       "      <td>12</td>\n",
       "      <td>3</td>\n",
       "      <td>4</td>\n",
       "      <td>1</td>\n",
       "    </tr>\n",
       "  </tbody>\n",
       "</table>\n",
       "</div>"
      ],
      "text/plain": [
       "           ID  PRODUCT_ID  PIXEL_X  PIXEL_Y   LATITUDE  LONGITUDE  \\\n",
       "0  1191608739  1191608737     5871     2068  43.661255   5.609816   \n",
       "1  1191608740  1191608737     6015     1963  43.688351   5.664592   \n",
       "2  1191608741  1191608737     6075     1939  43.694302   5.687191   \n",
       "3  1191608742  1191608737     6096     1947  43.691959   5.694904   \n",
       "4  1191608743  1191608737     6049     1948  43.692101   5.677414   \n",
       "\n",
       "   PIXEL_SURFACE_TYPE_ID  ATMOSPHERIC_PROPERTIES_ID  WATER_BODY_TYPE_ID  \\\n",
       "0                      2                          0                   2   \n",
       "1                      1                          0                   2   \n",
       "2                      1                          0                   2   \n",
       "3                      1                          0                   2   \n",
       "4                      1                          0                   2   \n",
       "\n",
       "   WATER_BODY_CHARACTERISTICS_ID  GLINT_ID  CLOUD_CHARACTERISTICS_ID  \\\n",
       "0                              3         0                         0   \n",
       "1                              3         0                         0   \n",
       "2                              3         0                         0   \n",
       "3                              3         0                         0   \n",
       "4                              3         0                         0   \n",
       "\n",
       "   CLOUD_HEIGHT_ID  CLOUD_SHADOW_ID  SHALLOWNESS_ID  SURFACE_TYPE_ID  \\\n",
       "0                0                0               0               14   \n",
       "1                0                0               0               12   \n",
       "2                0                0               0               12   \n",
       "3                0                0               0               12   \n",
       "4                0                0               0               12   \n",
       "\n",
       "   CLIMATE_ZONE_ID  SEASON_ID  DAY_TIME_ID  \n",
       "0                3          4            1  \n",
       "1                3          4            1  \n",
       "2                3          4            1  \n",
       "3                3          4            1  \n",
       "4                3          4            1  "
      ]
     },
     "execution_count": 5,
     "metadata": {},
     "output_type": "execute_result"
    }
   ],
   "source": [
    "# Load the validation data\n",
    "val_data = pd.read_csv(val_points_path)\n",
    "val_data.head()"
   ]
  },
  {
   "cell_type": "code",
   "execution_count": 6,
   "metadata": {},
   "outputs": [],
   "source": [
    "# Add mapping from product_id to scene_name\n",
    "product_id_to_scene_name = {\n",
    "    1093075446: \"LC81970222014109LGN00\",\n",
    "    1113395679: \"LC81980232014276LGN00\",\n",
    "    1113398638: \"LC82030242015058LGN00\",\n",
    "    1191608737: \"LC81960302014022LGN00\",\n",
    "    1278115010: \"LC81970182015080LGN00\",\n",
    "    1278117898: \"LC81970222013186LGN00\",\n",
    "    1710711454: \"LC81980222014260LGN00\",\n",
    "    1797484437: \"LC81990242014075LGN00\",\n",
    "    1978132186: \"LC81990242014107LGN00\",\n",
    "    2055810806: \"LC82030242014103LGN00\",\n",
    "    2055813758: \"LC82040212013251LGN00\",\n",
    "}\n",
    "val_data[\"SCENE_NAME\"] = val_data[\"PRODUCT_ID\"].map(product_id_to_scene_name)"
   ]
  },
  {
   "cell_type": "code",
   "execution_count": 7,
   "metadata": {},
   "outputs": [
    {
     "name": "stdout",
     "output_type": "stream",
     "text": [
      "Clouds: 5478\n",
      "Shadows: 1396\n",
      "Clear: 12365\n"
     ]
    }
   ],
   "source": [
    "# Reclassify the validation data\n",
    "val_data[\"CLOUD\"] = val_data[\"PIXEL_SURFACE_TYPE_ID\"].isin([0, 1]).astype(bool)\n",
    "val_data[\"SHADOW\"] = val_data[\"CLOUD_SHADOW_ID\"].isin([1]).astype(bool)\n",
    "val_data[\"CLEAR\"] = (val_data[\"SHADOW\"] + val_data[\"CLOUD\"]) == 0\n",
    "# Clear = 0 | Cloud = 1 | Shadow = 2\n",
    "val_data[\"TARGET\"] = (\n",
    "    0 * val_data[\"CLEAR\"] + 1 * val_data[\"CLOUD\"] + 2 * val_data[\"SHADOW\"]\n",
    ")\n",
    "\n",
    "\n",
    "print(f\"Clouds: {val_data['CLOUD'].sum()}\")\n",
    "print(f\"Shadows: {val_data['SHADOW'].sum()}\")\n",
    "print(f\"Clear: {val_data['CLEAR'].sum()}\")"
   ]
  },
  {
   "cell_type": "code",
   "execution_count": 8,
   "metadata": {},
   "outputs": [],
   "source": [
    "# Loop over scenes and add OCM predictions\n",
    "scene_results = []\n",
    "for PRODUCT_ID in product_id_to_scene_name.keys():\n",
    "    val_df_filt = val_data[val_data[\"PRODUCT_ID\"] == PRODUCT_ID].copy()\n",
    "    scene_name = product_id_to_scene_name[PRODUCT_ID]\n",
    "    ocm_pred_path = list(preds_dir.glob(f\"{scene_name}_OCM_*.tif\"))[0]\n",
    "    pred_array = rio.open(ocm_pred_path).read(1)\n",
    "    val_df_filt[\"OCM_PRED\"] = pred_array[\n",
    "        val_df_filt[\"PIXEL_Y\"].values, val_df_filt[\"PIXEL_X\"].values\n",
    "    ]\n",
    "    scene_results.append(val_df_filt)"
   ]
  },
  {
   "cell_type": "code",
   "execution_count": 9,
   "metadata": {},
   "outputs": [],
   "source": [
    "# Combine the results back into a single dataframe\n",
    "scene_results_df = pd.concat(scene_results)"
   ]
  },
  {
   "cell_type": "code",
   "execution_count": 10,
   "metadata": {},
   "outputs": [],
   "source": [
    "scene_results_df.to_csv(dataset_dir / \"scene_results.csv\", index=False)"
   ]
  },
  {
   "cell_type": "code",
   "execution_count": 11,
   "metadata": {},
   "outputs": [],
   "source": [
    "# Reclassify the OCM predictions combining thick and thin clouds\n",
    "scene_results_df[\"OCM_CLOUD\"] = scene_results_df[\"OCM_PRED\"].isin([1, 2]).astype(bool)\n",
    "scene_results_df[\"OCM_SHADOW\"] = scene_results_df[\"OCM_PRED\"].isin([3]).astype(bool)\n",
    "scene_results_df[\"OCM_CLEAR\"] = scene_results_df[\"OCM_PRED\"].isin([0]).astype(bool)\n",
    "# clear = 0 | cloud = 1 and 2 | shadow = 3\n",
    "scene_results_df[\"OCM_PRED_RECLASS\"] = (\n",
    "    0 * scene_results_df[\"OCM_CLEAR\"]\n",
    "    + 1 * scene_results_df[\"OCM_CLOUD\"]\n",
    "    + 2 * scene_results_df[\"OCM_SHADOW\"]\n",
    ")"
   ]
  },
  {
   "cell_type": "code",
   "execution_count": 12,
   "metadata": {},
   "outputs": [],
   "source": [
    "# Get the stats for the predictions\n",
    "def get_stats(labels, preds):\n",
    "    tp = np.sum(labels * preds)\n",
    "    tn = np.sum((1 - labels) * (1 - preds))\n",
    "    fp = np.sum((1 - labels) * preds)\n",
    "    fn = np.sum(labels * (1 - preds))\n",
    "    ua = tp / (tp + fp)\n",
    "    pa = tp / (tp + fn)\n",
    "    return {\n",
    "        \"TP\": tp,\n",
    "        \"TN\": tn,\n",
    "        \"FP\": fp,\n",
    "        \"FN\": fn,\n",
    "        \"UA\": ua,\n",
    "        \"PA\": pa,\n",
    "        \"OA\": (tp + tn) / (tp + tn + fp + fn),\n",
    "        \"BOA\": 0.5 * (pa + (tn / (tn + fp))),\n",
    "    }"
   ]
  },
  {
   "cell_type": "code",
   "execution_count": 13,
   "metadata": {},
   "outputs": [],
   "source": [
    "#  Get the stats for each class\n",
    "class_stats = {}\n",
    "for class_name in [\"CLEAR\", \"CLOUD\", \"SHADOW\"]:\n",
    "    labels = scene_results_df[class_name]\n",
    "    preds = scene_results_df[f\"OCM_{class_name}\"]\n",
    "    stats = get_stats(labels, preds)\n",
    "    class_stats[f\"{class_name}\"] = stats"
   ]
  },
  {
   "cell_type": "code",
   "execution_count": 14,
   "metadata": {},
   "outputs": [],
   "source": [
    "model_summary = pd.DataFrame(class_stats).T"
   ]
  },
  {
   "cell_type": "code",
   "execution_count": 15,
   "metadata": {},
   "outputs": [],
   "source": [
    "# Format the model summary\n",
    "for col in [\"UA\", \"PA\", \"OA\", \"BOA\"]:\n",
    "    model_summary[col] = model_summary[col].map(lambda x: \"{:.1%}\".format(x))\n",
    "for col in [\"TP\", \"TN\", \"FP\", \"FN\"]:\n",
    "    model_summary[col] = model_summary[col].map(lambda x: \"{:.0f}\".format(x))"
   ]
  },
  {
   "cell_type": "code",
   "execution_count": 16,
   "metadata": {},
   "outputs": [
    {
     "data": {
      "text/html": [
       "<div>\n",
       "<style scoped>\n",
       "    .dataframe tbody tr th:only-of-type {\n",
       "        vertical-align: middle;\n",
       "    }\n",
       "\n",
       "    .dataframe tbody tr th {\n",
       "        vertical-align: top;\n",
       "    }\n",
       "\n",
       "    .dataframe thead th {\n",
       "        text-align: right;\n",
       "    }\n",
       "</style>\n",
       "<table border=\"1\" class=\"dataframe\">\n",
       "  <thead>\n",
       "    <tr style=\"text-align: right;\">\n",
       "      <th></th>\n",
       "      <th>TP</th>\n",
       "      <th>TN</th>\n",
       "      <th>FP</th>\n",
       "      <th>FN</th>\n",
       "      <th>UA</th>\n",
       "      <th>PA</th>\n",
       "      <th>OA</th>\n",
       "      <th>BOA</th>\n",
       "    </tr>\n",
       "  </thead>\n",
       "  <tbody>\n",
       "    <tr>\n",
       "      <th>CLEAR</th>\n",
       "      <td>12314</td>\n",
       "      <td>5887</td>\n",
       "      <td>578</td>\n",
       "      <td>51</td>\n",
       "      <td>95.5%</td>\n",
       "      <td>99.6%</td>\n",
       "      <td>96.7%</td>\n",
       "      <td>95.3%</td>\n",
       "    </tr>\n",
       "    <tr>\n",
       "      <th>CLOUD</th>\n",
       "      <td>4975</td>\n",
       "      <td>13318</td>\n",
       "      <td>34</td>\n",
       "      <td>503</td>\n",
       "      <td>99.3%</td>\n",
       "      <td>90.8%</td>\n",
       "      <td>97.1%</td>\n",
       "      <td>95.3%</td>\n",
       "    </tr>\n",
       "    <tr>\n",
       "      <th>SHADOW</th>\n",
       "      <td>908</td>\n",
       "      <td>17413</td>\n",
       "      <td>21</td>\n",
       "      <td>488</td>\n",
       "      <td>97.7%</td>\n",
       "      <td>65.0%</td>\n",
       "      <td>97.3%</td>\n",
       "      <td>82.5%</td>\n",
       "    </tr>\n",
       "  </tbody>\n",
       "</table>\n",
       "</div>"
      ],
      "text/plain": [
       "           TP     TN   FP   FN     UA     PA     OA    BOA\n",
       "CLEAR   12314   5887  578   51  95.5%  99.6%  96.7%  95.3%\n",
       "CLOUD    4975  13318   34  503  99.3%  90.8%  97.1%  95.3%\n",
       "SHADOW    908  17413   21  488  97.7%  65.0%  97.3%  82.5%"
      ]
     },
     "execution_count": 16,
     "metadata": {},
     "output_type": "execute_result"
    }
   ],
   "source": [
    "model_summary"
   ]
  }
 ],
 "metadata": {
  "kernelspec": {
   "display_name": "omnicloudmask",
   "language": "python",
   "name": "python3"
  },
  "language_info": {
   "codemirror_mode": {
    "name": "ipython",
    "version": 3
   },
   "file_extension": ".py",
   "mimetype": "text/x-python",
   "name": "python",
   "nbconvert_exporter": "python",
   "pygments_lexer": "ipython3",
   "version": "3.11.11"
  }
 },
 "nbformat": 4,
 "nbformat_minor": 2
}
