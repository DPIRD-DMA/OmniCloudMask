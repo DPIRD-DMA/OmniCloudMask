{
 "cells": [
  {
   "cell_type": "code",
   "execution_count": 1,
   "metadata": {},
   "outputs": [],
   "source": [
    "from tqdm.auto import tqdm\n",
    "import requests\n",
    "from pathlib import Path\n",
    "import zipfile"
   ]
  },
  {
   "cell_type": "code",
   "execution_count": 2,
   "metadata": {},
   "outputs": [],
   "source": [
    "dataset_dir = Path(\"dataset\")\n",
    "dataset_dir.mkdir(exist_ok=True)"
   ]
  },
  {
   "cell_type": "code",
   "execution_count": 3,
   "metadata": {},
   "outputs": [],
   "source": [
    "# data is from here https://zenodo.org/records/5040271\n",
    "scenes = {\n",
    "    \"url\": \"https://zenodo.org/records/5040271/files/Landsat8_L1.zip?download=1\",\n",
    "    \"filename\": \"Landsat8_L1.zip\",\n",
    "}\n",
    "val_data = {\n",
    "    \"url\": \"https://zenodo.org/records/5040271/files/PixBox-L8-CMIX.zip?download=1\",\n",
    "    \"filename\": \"PixBox-L8-CMIX.zip\",\n",
    "}"
   ]
  },
  {
   "cell_type": "code",
   "execution_count": 4,
   "metadata": {},
   "outputs": [],
   "source": [
    "def download_file(url: str, filepath: Path, force_download=False):\n",
    "    if filepath.exists() and not force_download:\n",
    "        print(f\"File {filepath} already exists. Skipping download.\")\n",
    "        return\n",
    "    response = requests.get(url, stream=True)\n",
    "\n",
    "    total_size = int(response.headers.get(\"content-length\", 0))\n",
    "    block_size = 1024\n",
    "\n",
    "    with tqdm(\n",
    "        total=total_size, unit=\"B\", unit_scale=True, desc=f\"Downloading {filepath.name}\"\n",
    "    ) as progress_bar:\n",
    "        with open(filepath, \"wb\") as file:\n",
    "            for data in response.iter_content(block_size):\n",
    "                progress_bar.update(len(data))\n",
    "                file.write(data)"
   ]
  },
  {
   "cell_type": "code",
   "execution_count": null,
   "metadata": {},
   "outputs": [],
   "source": [
    "def download_and_extract(url: str, file_path: Path, force_download=False):\n",
    "    \"\"\"\n",
    "    Download a file from a URL and extract it if it's a zip file.\n",
    "    \"\"\"\n",
    "    download_file(url, file_path, force_download)\n",
    "\n",
    "    try:\n",
    "        with zipfile.ZipFile(file_path, \"r\") as zip_ref:\n",
    "            print(f\"Extracting {file_path.name}...\")\n",
    "            if file_path.name == \"Landsat8_L1.zip\":\n",
    "                zip_ref.extractall(dataset_dir / \"Landsat8_L1\")\n",
    "            else:\n",
    "                zip_ref.extractall(dataset_dir)\n",
    "    except zipfile.BadZipFile:\n",
    "        assert (\n",
    "            force_download is not True\n",
    "        ), \"\"\"Faild to unzip even after a \n",
    "        fresh download.\"\"\"\n",
    "        print(f\"Error: {file_path} is not a valid zip file.\")\n",
    "        print(\"Trying to download again...\")\n",
    "        download_and_extract(url, file_path, force_download=True)\n",
    "        return"
   ]
  },
  {
   "cell_type": "code",
   "execution_count": 6,
   "metadata": {},
   "outputs": [
    {
     "name": "stdout",
     "output_type": "stream",
     "text": [
      "File dataset/PixBox-L8-CMIX.zip already exists. Skipping download.\n",
      "File dataset/Landsat8_L1.zip already exists. Skipping download.\n"
     ]
    }
   ],
   "source": [
    "for data in [val_data, scenes]:\n",
    "    url = data[\"url\"]\n",
    "    filename = data[\"filename\"]\n",
    "    file_path = dataset_dir / filename\n",
    "    download_and_extract(url, file_path)"
   ]
  }
 ],
 "metadata": {
  "kernelspec": {
   "display_name": "omnicloudmask",
   "language": "python",
   "name": "python3"
  },
  "language_info": {
   "codemirror_mode": {
    "name": "ipython",
    "version": 3
   },
   "file_extension": ".py",
   "mimetype": "text/x-python",
   "name": "python",
   "nbconvert_exporter": "python",
   "pygments_lexer": "ipython3",
   "version": "3.11.11"
  }
 },
 "nbformat": 4,
 "nbformat_minor": 2
}
