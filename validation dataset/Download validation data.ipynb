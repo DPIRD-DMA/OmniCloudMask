{
 "cells": [
  {
   "cell_type": "code",
   "execution_count": null,
   "metadata": {},
   "outputs": [],
   "source": [
    "from pathlib import Path\n",
    "from concurrent.futures import ThreadPoolExecutor\n",
    "import requests\n",
    "from requests.auth import HTTPBasicAuth\n",
    "import pandas as pd\n",
    "from IPython.display import clear_output\n",
    "import rasterio as rio"
   ]
  },
  {
   "cell_type": "code",
   "execution_count": null,
   "metadata": {},
   "outputs": [],
   "source": [
    "# You need to have a Planet API key in a file called \"Planet API key.txt\" in the current working directory\n",
    "api_key_path = Path.cwd() / \"Planet API key.txt\"\n",
    "api_key = api_key_path.read_text().strip()"
   ]
  },
  {
   "cell_type": "code",
   "execution_count": null,
   "metadata": {},
   "outputs": [],
   "source": [
    "download_dir = Path.cwd() / \"downloaded data\"\n",
    "download_dir.mkdir(exist_ok=True)"
   ]
  },
  {
   "cell_type": "code",
   "execution_count": null,
   "metadata": {},
   "outputs": [],
   "source": [
    "item_type = \"PSScene\"\n",
    "asset_types = [\"ortho_analytic_8b_sr\", \"ortho_analytic_8b_xml\", \"ortho_udm2\"]"
   ]
  },
  {
   "cell_type": "code",
   "execution_count": null,
   "metadata": {},
   "outputs": [],
   "source": [
    "val_items = [\n",
    "    \"20231017_074706_29_24cc\",\n",
    "    \"20231020_040648_68_24ba\",\n",
    "    \"20231027_104734_71_24ab\",\n",
    "    \"20231028_112441_43_247d\",\n",
    "    \"20231026_105053_18_247d\",\n",
    "    \"20231023_100346_43_24bf\",\n",
    "    \"20231028_100622_62_2440\",\n",
    "    \"20231021_172556_48_24ab\",\n",
    "    \"20231007_120440_68_24c0\",\n",
    "    \"20231028_122611_96_2475\",\n",
    "    \"20231006_134506_55_24b0\",\n",
    "    \"20231028_122611_96_2475\",\n",
    "    \"20231006_134506_55_24b0\",\n",
    "    \"20230923_180857_76_2483\",\n",
    "    \"20231012_170140_16_2495\",\n",
    "    \"20231018_003511_81_24b4\",\n",
    "    \"20231002_235222_22_24b9\",\n",
    "    \"20230821_172926_55_24c4\",\n",
    "    \"20230814_134236_48_242e\",\n",
    "    \"20231010_020137_28_2424\",\n",
    "]\n",
    "len(val_items)"
   ]
  },
  {
   "cell_type": "code",
   "execution_count": null,
   "metadata": {},
   "outputs": [],
   "source": [
    "def download_file(url):\n",
    "    response = requests.get(url, stream=True)\n",
    "\n",
    "    if response.status_code == 200:\n",
    "        content_disposition = response.headers.get(\"content-disposition\")\n",
    "        if content_disposition:\n",
    "            filename = content_disposition.split(\"filename=\")[1].strip('\"')\n",
    "            file_path = download_dir / filename\n",
    "            if file_path.exists():\n",
    "                print(f\"File {filename} already exists.\")\n",
    "                return\n",
    "\n",
    "            with open(file_path, \"wb\") as file:\n",
    "                for chunk in response.iter_content(chunk_size=8192):\n",
    "                    file.write(chunk)\n",
    "            print(f\"File {filename} downloaded successfully.\")\n",
    "        else:\n",
    "            print(\"Could not find a filename in the Content-Disposition header.\")\n",
    "    else:\n",
    "        print(\"Failed to download the file.\")"
   ]
  },
  {
   "cell_type": "code",
   "execution_count": null,
   "metadata": {},
   "outputs": [],
   "source": [
    "all_item_dicts = []\n",
    "for item in val_items:\n",
    "    item_dicts = []\n",
    "    item_url = (\n",
    "        f\"https://api.planet.com/data/v1/item-types/{item_type}/items/{item}/assets\"\n",
    "    )\n",
    "\n",
    "    result = requests.get(item_url, auth=HTTPBasicAuth(api_key, \"\"))\n",
    "    for asset_type in asset_types:\n",
    "        links = result.json()[asset_type][\"_links\"]\n",
    "\n",
    "        self_link = links[\"_self\"]\n",
    "        activation_link = links[\"activate\"]\n",
    "        item_links = {\"self_link\": self_link, \"activation_link\": activation_link}\n",
    "        activate_result = requests.get(activation_link, auth=HTTPBasicAuth(api_key, \"\"))\n",
    "        item_dicts.append(item_links)\n",
    "\n",
    "    all_item_dicts.append(item_dicts)"
   ]
  },
  {
   "cell_type": "code",
   "execution_count": null,
   "metadata": {},
   "outputs": [],
   "source": [
    "while True:\n",
    "    all_prod_status = []\n",
    "\n",
    "    for item_dicts in all_item_dicts:\n",
    "        for item_dict in item_dicts:\n",
    "            activation_status_result = requests.get(\n",
    "                item_dict[\"self_link\"], auth=HTTPBasicAuth(api_key, \"\")\n",
    "            )\n",
    "            product_info = activation_status_result.json()\n",
    "            all_prod_status.append(product_info)\n",
    "\n",
    "    clear_output(wait=True)\n",
    "    results_df = pd.DataFrame(all_prod_status)\n",
    "    print(results_df[\"status\"].value_counts())\n",
    "    if \"activating\" not in results_df[\"status\"].to_list():\n",
    "        download_links = pd.DataFrame(all_prod_status)[\"location\"].to_list()\n",
    "        break"
   ]
  },
  {
   "cell_type": "code",
   "execution_count": null,
   "metadata": {},
   "outputs": [],
   "source": [
    "dl_threads = 3\n",
    "with ThreadPoolExecutor(max_workers=dl_threads) as executor:\n",
    "    executor.map(download_file, download_links)"
   ]
  },
  {
   "cell_type": "code",
   "execution_count": null,
   "metadata": {},
   "outputs": [],
   "source": [
    "udm2_files = list(download_dir.glob(\"*udm2.tif\"))\n",
    "len(list(udm2_files))"
   ]
  },
  {
   "cell_type": "code",
   "execution_count": null,
   "metadata": {},
   "outputs": [],
   "source": [
    "# flatten the UDM2 masks to a single band\n",
    "for udm2_file in udm2_files:\n",
    "    filename = udm2_file.name\n",
    "    export_path = download_dir / f\"{filename.replace('.tif', '_flat_mask.tif')}\"\n",
    "    src = rio.open(udm2_file)\n",
    "    profile = src.profile\n",
    "    raw_mask = src.read([1, 2, 3, 4, 5, 6])\n",
    "    mask_max = raw_mask.argmax(axis=0, keepdims=True)\n",
    "    profile.update(count=1, dtype=rio.uint8, compress=\"lzw\")\n",
    "    with rio.open(export_path, \"w\", **profile) as dst:\n",
    "        dst.write(mask_max + 1)"
   ]
  }
 ],
 "metadata": {
  "kernelspec": {
   "display_name": "gis",
   "language": "python",
   "name": "python3"
  },
  "language_info": {
   "codemirror_mode": {
    "name": "ipython",
    "version": 3
   },
   "file_extension": ".py",
   "mimetype": "text/x-python",
   "name": "python",
   "nbconvert_exporter": "python",
   "pygments_lexer": "ipython3",
   "version": "3.1.-1"
  }
 },
 "nbformat": 4,
 "nbformat_minor": 2
}
