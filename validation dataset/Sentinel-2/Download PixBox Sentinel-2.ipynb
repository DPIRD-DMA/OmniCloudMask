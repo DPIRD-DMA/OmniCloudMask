{
 "cells": [
  {
   "cell_type": "code",
   "execution_count": null,
   "metadata": {},
   "outputs": [],
   "source": [
    "from tqdm.auto import tqdm\n",
    "import requests\n",
    "from pathlib import Path\n",
    "import zipfile"
   ]
  },
  {
   "cell_type": "code",
   "execution_count": null,
   "metadata": {},
   "outputs": [],
   "source": [
    "dataset_dir = Path(\"dataset\")\n",
    "dataset_dir.mkdir(exist_ok=True)"
   ]
  },
  {
   "cell_type": "code",
   "execution_count": null,
   "metadata": {},
   "outputs": [],
   "source": [
    "# data is from here https://zenodo.org/records/5036991\n",
    "scenes = {\n",
    "    \"url\": \"https://zenodo.org/records/5036991/files/Sentinel-2_L1C.zip?download=1\",\n",
    "    \"filename\": \"Sentinel-2_L1C.zip\",\n",
    "}\n",
    "val_data = {\n",
    "    \"url\": \"https://zenodo.org/records/5036991/files/PixBox-S2-CMIX.zip?download=1\",\n",
    "    \"filename\": \"PixBox-S2-CMIX.zip\",\n",
    "}"
   ]
  },
  {
   "cell_type": "code",
   "execution_count": null,
   "metadata": {},
   "outputs": [],
   "source": [
    "def download_file(url: str, file_path: Path, force_download=False):\n",
    "\n",
    "    if file_path.exists() and not force_download:\n",
    "        print(f\"File {file_path} already exists, skipping download.\")\n",
    "        return\n",
    "    response = requests.get(url, stream=True)\n",
    "\n",
    "    total_size = int(response.headers.get(\"content-length\", 0))\n",
    "    block_size = 1024\n",
    "\n",
    "    with tqdm(\n",
    "        total=total_size,\n",
    "        unit=\"B\",\n",
    "        unit_scale=True,\n",
    "        desc=f\"Downloading {file_path.name}\",\n",
    "    ) as progress_bar:\n",
    "\n",
    "        with open(file_path, \"wb\") as file:\n",
    "            for data in response.iter_content(block_size):\n",
    "                progress_bar.update(len(data))\n",
    "                file.write(data)"
   ]
  },
  {
   "cell_type": "code",
   "execution_count": null,
   "metadata": {},
   "outputs": [],
   "source": [
    "def download_and_extract(url: str, file_path: Path, force_download=False):\n",
    "\n",
    "    download_file(url, file_path, force_download)\n",
    "    try:\n",
    "        with zipfile.ZipFile(file_path, \"r\") as zip_ref:\n",
    "            zip_ref.extractall(dataset_dir)\n",
    "    except zipfile.BadZipFile:\n",
    "        assert (\n",
    "            force_download is not True\n",
    "        ), \"\"\"Faild to unzip even after a \n",
    "        fresh download.\"\"\"\n",
    "        print(f\"Error: {file_path} is not a valid zip file.\")\n",
    "        print(\"Trying to download again...\")\n",
    "        download_and_extract(url, file_path, force_download=True)\n",
    "        return"
   ]
  },
  {
   "cell_type": "code",
   "execution_count": null,
   "metadata": {},
   "outputs": [],
   "source": [
    "for data in [val_data, scenes]:\n",
    "    url = data[\"url\"]\n",
    "    filename = data[\"filename\"]\n",
    "    file_path = dataset_dir / filename\n",
    "    download_and_extract(url, file_path)"
   ]
  },
  {
   "cell_type": "code",
   "execution_count": null,
   "metadata": {},
   "outputs": [],
   "source": [
    "# upzip scenes\n",
    "scenes_dir = dataset_dir / \"Sentinel-2_L1C\"\n",
    "zipped_scenes = list(scenes_dir.glob(\"*.zip\"))\n",
    "rar_scenes = list(scenes_dir.glob(\"*.rar\"))\n",
    "len(zipped_scenes), len(rar_scenes)"
   ]
  },
  {
   "cell_type": "code",
   "execution_count": null,
   "metadata": {},
   "outputs": [],
   "source": [
    "for zipped_scene in tqdm(zipped_scenes):\n",
    "    with zipfile.ZipFile(zipped_scene, \"r\") as zip_ref:\n",
    "        zip_ref.extractall(scenes_dir)\n",
    "    zipped_scene.unlink()"
   ]
  },
  {
   "cell_type": "markdown",
   "metadata": {},
   "source": [
    "For some reason one the the scenes is a .rar file, it's not simple to extract this with python so head to the path below and extract the scene manually. "
   ]
  },
  {
   "cell_type": "code",
   "execution_count": null,
   "metadata": {},
   "outputs": [],
   "source": [
    "rar_scenes"
   ]
  }
 ],
 "metadata": {
  "kernelspec": {
   "display_name": "omnicloudmask",
   "language": "python",
   "name": "python3"
  },
  "language_info": {
   "codemirror_mode": {
    "name": "ipython",
    "version": 3
   },
   "file_extension": ".py",
   "mimetype": "text/x-python",
   "name": "python",
   "nbconvert_exporter": "python",
   "pygments_lexer": "ipython3",
   "version": "3.11.11"
  }
 },
 "nbformat": 4,
 "nbformat_minor": 2
}
