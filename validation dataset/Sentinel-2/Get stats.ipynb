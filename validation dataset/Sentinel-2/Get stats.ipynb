{
 "cells": [
  {
   "cell_type": "code",
   "execution_count": 1,
   "metadata": {},
   "outputs": [],
   "source": [
    "import rasterio as rio\n",
    "import pandas as pd\n",
    "from pathlib import Path\n",
    "import numpy as np\n",
    "import sys\n",
    "\n",
    "sys.path.append(Path.cwd().parents[1].as_posix())\n",
    "import omnicloudmask"
   ]
  },
  {
   "cell_type": "code",
   "execution_count": 2,
   "metadata": {},
   "outputs": [
    {
     "name": "stdout",
     "output_type": "stream",
     "text": [
      "OmniCloudMask version: 1.5.0\n"
     ]
    }
   ],
   "source": [
    "ocm_version = omnicloudmask.__version__\n",
    "print(f\"OmniCloudMask version: {ocm_version}\")"
   ]
  },
  {
   "cell_type": "code",
   "execution_count": 3,
   "metadata": {},
   "outputs": [],
   "source": [
    "dataset_dir = Path(\"dataset\")\n",
    "val_points_path = dataset_dir / \"PixBox-S2-CMIX/pixbox_sentinel2_cmix_20180425.csv\""
   ]
  },
  {
   "cell_type": "code",
   "execution_count": 4,
   "metadata": {},
   "outputs": [
    {
     "name": "stdout",
     "output_type": "stream",
     "text": [
      "Predictions directory: dataset/OCM preds v1.5.0\n"
     ]
    },
    {
     "data": {
      "text/plain": [
       "True"
      ]
     },
     "execution_count": 4,
     "metadata": {},
     "output_type": "execute_result"
    }
   ],
   "source": [
    "# Point at the predictions directory\n",
    "preds_dir = dataset_dir / f\"OCM preds v{ocm_version}\"\n",
    "print(f\"Predictions directory: {preds_dir}\")\n",
    "preds_dir.exists()"
   ]
  },
  {
   "cell_type": "code",
   "execution_count": 5,
   "metadata": {},
   "outputs": [
    {
     "data": {
      "text/html": [
       "<div>\n",
       "<style scoped>\n",
       "    .dataframe tbody tr th:only-of-type {\n",
       "        vertical-align: middle;\n",
       "    }\n",
       "\n",
       "    .dataframe tbody tr th {\n",
       "        vertical-align: top;\n",
       "    }\n",
       "\n",
       "    .dataframe thead th {\n",
       "        text-align: right;\n",
       "    }\n",
       "</style>\n",
       "<table border=\"1\" class=\"dataframe\">\n",
       "  <thead>\n",
       "    <tr style=\"text-align: right;\">\n",
       "      <th></th>\n",
       "      <th>ID</th>\n",
       "      <th>PRODUCT_ID</th>\n",
       "      <th>PIXEL_X</th>\n",
       "      <th>PIXEL_Y</th>\n",
       "      <th>LATITUDE</th>\n",
       "      <th>LONGITUDE</th>\n",
       "      <th>SURFACE_ID</th>\n",
       "      <th>CLOUD_CHARACTERISTICS_ID</th>\n",
       "      <th>CLOUD_TYPE_ID</th>\n",
       "      <th>CLOUD HEIGHT_ID</th>\n",
       "      <th>...</th>\n",
       "      <th>AEROSOL TYPE_ID</th>\n",
       "      <th>GLINT_ID</th>\n",
       "      <th>WATER BODY CHARACTERISTICS_ID</th>\n",
       "      <th>ICE TYPE_ID</th>\n",
       "      <th>OVERSATURATION_ID</th>\n",
       "      <th>SURFACE_TYPE_ID</th>\n",
       "      <th>CLIMATE_ZONE_ID</th>\n",
       "      <th>SEASON_ID</th>\n",
       "      <th>DAY_TIME_ID</th>\n",
       "      <th>SHALLOWNESS_ID</th>\n",
       "    </tr>\n",
       "  </thead>\n",
       "  <tbody>\n",
       "    <tr>\n",
       "      <th>0</th>\n",
       "      <td>5472574</td>\n",
       "      <td>5472572</td>\n",
       "      <td>8113</td>\n",
       "      <td>4879</td>\n",
       "      <td>-19.431860</td>\n",
       "      <td>-68.227310</td>\n",
       "      <td>27</td>\n",
       "      <td>6</td>\n",
       "      <td>1</td>\n",
       "      <td>1</td>\n",
       "      <td>...</td>\n",
       "      <td>1</td>\n",
       "      <td>1</td>\n",
       "      <td>1</td>\n",
       "      <td>1</td>\n",
       "      <td>1</td>\n",
       "      <td>6</td>\n",
       "      <td>4</td>\n",
       "      <td>1</td>\n",
       "      <td>0</td>\n",
       "      <td>1</td>\n",
       "    </tr>\n",
       "    <tr>\n",
       "      <th>1</th>\n",
       "      <td>5472575</td>\n",
       "      <td>5472572</td>\n",
       "      <td>8693</td>\n",
       "      <td>4333</td>\n",
       "      <td>-19.382278</td>\n",
       "      <td>-68.172318</td>\n",
       "      <td>27</td>\n",
       "      <td>6</td>\n",
       "      <td>1</td>\n",
       "      <td>1</td>\n",
       "      <td>...</td>\n",
       "      <td>1</td>\n",
       "      <td>1</td>\n",
       "      <td>1</td>\n",
       "      <td>1</td>\n",
       "      <td>1</td>\n",
       "      <td>6</td>\n",
       "      <td>4</td>\n",
       "      <td>1</td>\n",
       "      <td>0</td>\n",
       "      <td>1</td>\n",
       "    </tr>\n",
       "    <tr>\n",
       "      <th>2</th>\n",
       "      <td>5472576</td>\n",
       "      <td>5472572</td>\n",
       "      <td>8997</td>\n",
       "      <td>3485</td>\n",
       "      <td>-19.305517</td>\n",
       "      <td>-68.143768</td>\n",
       "      <td>27</td>\n",
       "      <td>6</td>\n",
       "      <td>1</td>\n",
       "      <td>1</td>\n",
       "      <td>...</td>\n",
       "      <td>1</td>\n",
       "      <td>1</td>\n",
       "      <td>1</td>\n",
       "      <td>1</td>\n",
       "      <td>1</td>\n",
       "      <td>6</td>\n",
       "      <td>4</td>\n",
       "      <td>1</td>\n",
       "      <td>0</td>\n",
       "      <td>1</td>\n",
       "    </tr>\n",
       "    <tr>\n",
       "      <th>3</th>\n",
       "      <td>5472577</td>\n",
       "      <td>5472572</td>\n",
       "      <td>9360</td>\n",
       "      <td>2757</td>\n",
       "      <td>-19.239567</td>\n",
       "      <td>-68.109573</td>\n",
       "      <td>27</td>\n",
       "      <td>6</td>\n",
       "      <td>1</td>\n",
       "      <td>1</td>\n",
       "      <td>...</td>\n",
       "      <td>1</td>\n",
       "      <td>1</td>\n",
       "      <td>1</td>\n",
       "      <td>1</td>\n",
       "      <td>1</td>\n",
       "      <td>6</td>\n",
       "      <td>4</td>\n",
       "      <td>1</td>\n",
       "      <td>0</td>\n",
       "      <td>1</td>\n",
       "    </tr>\n",
       "    <tr>\n",
       "      <th>4</th>\n",
       "      <td>5472578</td>\n",
       "      <td>5472572</td>\n",
       "      <td>8148</td>\n",
       "      <td>2454</td>\n",
       "      <td>-19.212711</td>\n",
       "      <td>-68.225014</td>\n",
       "      <td>27</td>\n",
       "      <td>6</td>\n",
       "      <td>1</td>\n",
       "      <td>1</td>\n",
       "      <td>...</td>\n",
       "      <td>1</td>\n",
       "      <td>1</td>\n",
       "      <td>1</td>\n",
       "      <td>1</td>\n",
       "      <td>1</td>\n",
       "      <td>6</td>\n",
       "      <td>4</td>\n",
       "      <td>1</td>\n",
       "      <td>0</td>\n",
       "      <td>1</td>\n",
       "    </tr>\n",
       "  </tbody>\n",
       "</table>\n",
       "<p>5 rows × 21 columns</p>\n",
       "</div>"
      ],
      "text/plain": [
       "        ID  PRODUCT_ID  PIXEL_X  PIXEL_Y   LATITUDE  LONGITUDE  SURFACE_ID  \\\n",
       "0  5472574     5472572     8113     4879 -19.431860 -68.227310          27   \n",
       "1  5472575     5472572     8693     4333 -19.382278 -68.172318          27   \n",
       "2  5472576     5472572     8997     3485 -19.305517 -68.143768          27   \n",
       "3  5472577     5472572     9360     2757 -19.239567 -68.109573          27   \n",
       "4  5472578     5472572     8148     2454 -19.212711 -68.225014          27   \n",
       "\n",
       "   CLOUD_CHARACTERISTICS_ID  CLOUD_TYPE_ID  CLOUD HEIGHT_ID  ...  \\\n",
       "0                         6              1                1  ...   \n",
       "1                         6              1                1  ...   \n",
       "2                         6              1                1  ...   \n",
       "3                         6              1                1  ...   \n",
       "4                         6              1                1  ...   \n",
       "\n",
       "   AEROSOL TYPE_ID  GLINT_ID  WATER BODY CHARACTERISTICS_ID  ICE TYPE_ID  \\\n",
       "0                1         1                              1            1   \n",
       "1                1         1                              1            1   \n",
       "2                1         1                              1            1   \n",
       "3                1         1                              1            1   \n",
       "4                1         1                              1            1   \n",
       "\n",
       "   OVERSATURATION_ID  SURFACE_TYPE_ID  CLIMATE_ZONE_ID  SEASON_ID  \\\n",
       "0                  1                6                4          1   \n",
       "1                  1                6                4          1   \n",
       "2                  1                6                4          1   \n",
       "3                  1                6                4          1   \n",
       "4                  1                6                4          1   \n",
       "\n",
       "   DAY_TIME_ID  SHALLOWNESS_ID  \n",
       "0            0               1  \n",
       "1            0               1  \n",
       "2            0               1  \n",
       "3            0               1  \n",
       "4            0               1  \n",
       "\n",
       "[5 rows x 21 columns]"
      ]
     },
     "execution_count": 5,
     "metadata": {},
     "output_type": "execute_result"
    }
   ],
   "source": [
    "# Load the validation data\n",
    "val_data = pd.read_csv(val_points_path)\n",
    "val_data.head()"
   ]
  },
  {
   "cell_type": "code",
   "execution_count": 6,
   "metadata": {},
   "outputs": [],
   "source": [
    "# Add mapping from product_id to scene_name\n",
    "\n",
    "product_id_to_scene_name = {\n",
    "    5472572: \"S2A_MSIL1C_20171205T143751_N0206_R096_T19KEU_20171205T180316\",\n",
    "    183807605: \"S2A_MSIL1C_20170929T211511_N0205_R143_T06VWN_20170929T211510\",\n",
    "    273136892: \"S2A_MSIL1C_20180126T182631_N0206_R127_T11SPC_20180126T201415\",\n",
    "    433871481: \"S2A_MSIL1C_20180303T140051_N0206_R067_T19FDV_20180303T202004\",\n",
    "    522655885: \"S2A_MSIL1C_20171107T150421_N0206_R125_T22WES_20171107T165127\",\n",
    "    623596858: \"S2A_MSIL1C_20170629T103021_N0205_R108_T31TFJ_20170629T103020\",\n",
    "    701404038: \"S2A_MSIL1C_20170908T100031_N0205_R122_T32SPJ_20170908T100655\",\n",
    "    784585929: \"S2B_MSIL1C_20170731T102019_N0205_R065_T33VVE_20170731T102348\",\n",
    "    872013732: \"S2A_MSIL1C_20180223T092031_N0206_R093_T36VUM_20180223T113049\",\n",
    "    885047116: \"S2B_MSIL1C_20171210T060229_N0206_R091_T42RUN_20171210T071154\",\n",
    "    960993216: \"S2A_MSIL1C_20180106T032121_N0206_R118_T48NUG_20180106T083912\",\n",
    "    1041598282: \"S2A_MSIL1C_20180222T012651_N0206_R074_T54TWN_20180222T031349\",\n",
    "    1126775487: \"S2B_MSIL1C_20170725T183309_N0205_R127_T11SPC_20170725T183309\",\n",
    "    1211409580: \"S2A_MSIL1C_20170209T154541_N0204_R111_T17PPK_20170209T154543\",\n",
    "    1248336059: \"S2A_MSIL1C_20170725T142751_N0205_R053_T19GBQ_20170725T143854\",\n",
    "    1309065466: \"S2B_MSIL1C_20170712T113319_N0205_R080_T28PCV_20170712T114542\",\n",
    "    1386821964: \"S2A_MSIL1C_20170726T102021_N0205_R065_T33VVE_20170726T102259\",\n",
    "    1407300752: \"S2A_MSIL1C_20170113T072241_N0204_R006_T40UEE_20170113T072238\",\n",
    "    1470797653: \"S2A_MSIL1C_20180217T053911_N0206_R005_T44SKJ_20180217T082149\",\n",
    "    1559102360: \"S2A_MSIL1C_20170917T052641_N0205_R105_T48XWG_20170917T052642\",\n",
    "    1650478641: \"S2A_MSIL1C_20170916T143741_N0205_R096_T19KEU_20170916T143942\",\n",
    "    1727138395: \"S2A_MSIL1C_20170620T181921_N0205_R127_T11SPC_20170620T182846\",\n",
    "    1727140056: \"S2A_MSIL1C_20180302T142851_N0206_R053_T19GBQ_20180302T192732\",\n",
    "    1821333386: \"S2B_MSIL1C_20180302T150259_N0206_R125_T22WES_20180302T183800\",\n",
    "    1832501017: \"S2B_MSIL1C_20170728T101029_N0205_R022_T32TPS_20170728T101024\",\n",
    "    1892503998: \"S2B_MSIL1C_20170916T101019_N0205_R022_T32SPJ_20170916T101354\",\n",
    "    1899752240: \"S2A_MSIL1C_20170712T071621_N0205_R006_T40UEE_20170712T071617\",\n",
    "    2019111565: \"S2A_MSIL1C_20170706T051651_N0205_R062_T48XWG_20170706T051649\",\n",
    "    2065997836: \"S2A_MSIL1C_20180102T140051_N0206_R067_T21LXK_20180102T154324\",\n",
    "}\n",
    "val_data[\"SCENE_NAME\"] = val_data[\"PRODUCT_ID\"].map(product_id_to_scene_name)"
   ]
  },
  {
   "cell_type": "code",
   "execution_count": 7,
   "metadata": {},
   "outputs": [],
   "source": [
    "# Reclassify the validation data\n",
    "val_data[\"CLOUD\"] = (\n",
    "    val_data[\"CLOUD_CHARACTERISTICS_ID\"]\n",
    "    .isin([2, 3, 4, 5, 6, 8, 9, 10, 11, 12])\n",
    "    .astype(bool)\n",
    ")\n",
    "val_data[\"NOT_CLOUD\"] = (\n",
    "    val_data[\"CLOUD_CHARACTERISTICS_ID\"].isin([0, 1, 7]).astype(bool)\n",
    ")\n",
    "\n",
    "val_data[\"NOT_SHADOW\"] = val_data[\"SHADOW_ID\"].isin([0, 1, 2, 4]).astype(bool)\n",
    "\n",
    "val_data[\"SHADOW\"] = (val_data[\"SHADOW_ID\"] == 3).astype(bool)\n",
    "\n",
    "# if the pixel is not cloud or shadow, it is clear\n",
    "val_data[\"CLEAR\"] = (val_data[\"NOT_CLOUD\"] & val_data[\"NOT_SHADOW\"]).astype(bool)"
   ]
  },
  {
   "cell_type": "code",
   "execution_count": 8,
   "metadata": {},
   "outputs": [
    {
     "name": "stdout",
     "output_type": "stream",
     "text": [
      "Clouds: 8169\n",
      "Shadows: 1246\n",
      "Clear: 8297\n"
     ]
    }
   ],
   "source": [
    "print(f\"Clouds: {val_data['CLOUD'].sum()}\")\n",
    "print(f\"Shadows: {val_data['SHADOW'].sum()}\")\n",
    "print(f\"Clear: {val_data['CLEAR'].sum()}\")"
   ]
  },
  {
   "cell_type": "code",
   "execution_count": 9,
   "metadata": {},
   "outputs": [
    {
     "data": {
      "text/plain": [
       "(17351, 27)"
      ]
     },
     "execution_count": 9,
     "metadata": {},
     "output_type": "execute_result"
    }
   ],
   "source": [
    "# # drop rows that are nor cloud, shadow or clear\n",
    "val_data = val_data[val_data[\"CLOUD\"] | val_data[\"SHADOW\"] | val_data[\"CLEAR\"]]\n",
    "val_data.shape"
   ]
  },
  {
   "cell_type": "code",
   "execution_count": 10,
   "metadata": {},
   "outputs": [
    {
     "data": {
      "text/plain": [
       "(17351, 27)"
      ]
     },
     "execution_count": 10,
     "metadata": {},
     "output_type": "execute_result"
    }
   ],
   "source": [
    "val_data.shape"
   ]
  },
  {
   "cell_type": "code",
   "execution_count": 11,
   "metadata": {},
   "outputs": [],
   "source": [
    "# Loop over scenes and add OCM predictions\n",
    "scene_results = []\n",
    "for PRODUCT_ID in product_id_to_scene_name.keys():\n",
    "    val_df_filt = val_data[val_data[\"PRODUCT_ID\"] == PRODUCT_ID].copy()\n",
    "    scene_name = product_id_to_scene_name[PRODUCT_ID]\n",
    "    ocm_pred_path = list(preds_dir.glob(f\"{scene_name}_OCM_*.tif\"))[0]\n",
    "    pred_array = rio.open(ocm_pred_path).read(1)\n",
    "    val_df_filt[\"OCM_PRED\"] = pred_array[\n",
    "        val_df_filt[\"PIXEL_Y\"].values, val_df_filt[\"PIXEL_X\"].values\n",
    "    ]\n",
    "    scene_results.append(val_df_filt)"
   ]
  },
  {
   "cell_type": "code",
   "execution_count": 12,
   "metadata": {},
   "outputs": [],
   "source": [
    "# Combine the results back into a single dataframe\n",
    "scene_results_df = pd.concat(scene_results)"
   ]
  },
  {
   "cell_type": "code",
   "execution_count": 13,
   "metadata": {},
   "outputs": [],
   "source": [
    "# Reclassify the OCM predictions combining thick and thin clouds\n",
    "scene_results_df[\"OCM_CLOUD\"] = scene_results_df[\"OCM_PRED\"].isin([1, 2]).astype(bool)\n",
    "scene_results_df[\"OCM_SHADOW\"] = scene_results_df[\"OCM_PRED\"].isin([3]).astype(bool)\n",
    "scene_results_df[\"OCM_CLEAR\"] = scene_results_df[\"OCM_PRED\"].isin([0]).astype(bool)"
   ]
  },
  {
   "cell_type": "code",
   "execution_count": 14,
   "metadata": {},
   "outputs": [
    {
     "name": "stdout",
     "output_type": "stream",
     "text": [
      "OCM_CLEAR\n",
      "True     8682\n",
      "False    8669\n",
      "Name: count, dtype: int64\n",
      "OCM_CLOUD\n",
      "False    9718\n",
      "True     7633\n",
      "Name: count, dtype: int64\n",
      "OCM_SHADOW\n",
      "False    16315\n",
      "True      1036\n",
      "Name: count, dtype: int64\n"
     ]
    }
   ],
   "source": [
    "print(scene_results_df[\"OCM_CLEAR\"].value_counts())\n",
    "print(scene_results_df[\"OCM_CLOUD\"].value_counts())\n",
    "print(scene_results_df[\"OCM_SHADOW\"].value_counts())"
   ]
  },
  {
   "cell_type": "code",
   "execution_count": 15,
   "metadata": {},
   "outputs": [],
   "source": [
    "# Get the stats for the predictions\n",
    "def get_stats(labels, preds):\n",
    "    tp = np.sum(labels * preds)\n",
    "    tn = np.sum((1 - labels) * (1 - preds))\n",
    "    fp = np.sum((1 - labels) * preds)\n",
    "    fn = np.sum(labels * (1 - preds))\n",
    "    ua = tp / (tp + fp)\n",
    "    pa = tp / (tp + fn)\n",
    "    return {\n",
    "        \"TP\": tp,\n",
    "        \"TN\": tn,\n",
    "        \"FP\": fp,\n",
    "        \"FN\": fn,\n",
    "        \"UA\": ua,\n",
    "        \"PA\": pa,\n",
    "        \"OA\": (tp + tn) / (tp + tn + fp + fn),\n",
    "        \"BOA\": 0.5 * (pa + (tn / (tn + fp))),\n",
    "    }"
   ]
  },
  {
   "cell_type": "code",
   "execution_count": 16,
   "metadata": {},
   "outputs": [],
   "source": [
    "#  Get the stats for each class\n",
    "class_stats = {}\n",
    "for class_name in [\"CLEAR\", \"CLOUD\", \"SHADOW\"]:\n",
    "    labels = scene_results_df[class_name]\n",
    "    preds = scene_results_df[f\"OCM_{class_name}\"]\n",
    "    stats = get_stats(labels, preds)\n",
    "    class_stats[f\"{class_name}\"] = stats"
   ]
  },
  {
   "cell_type": "code",
   "execution_count": 17,
   "metadata": {},
   "outputs": [],
   "source": [
    "model_summary = pd.DataFrame(class_stats).T"
   ]
  },
  {
   "cell_type": "code",
   "execution_count": 18,
   "metadata": {},
   "outputs": [],
   "source": [
    "# Format the model summary\n",
    "for col in [\"UA\", \"PA\", \"OA\", \"BOA\"]:\n",
    "    model_summary[col] = model_summary[col].map(lambda x: \"{:.2%}\".format(x))\n",
    "for col in [\"TP\", \"TN\", \"FP\", \"FN\"]:\n",
    "    model_summary[col] = model_summary[col].map(lambda x: \"{:.0f}\".format(x))"
   ]
  },
  {
   "cell_type": "code",
   "execution_count": 19,
   "metadata": {},
   "outputs": [
    {
     "data": {
      "text/html": [
       "<div>\n",
       "<style scoped>\n",
       "    .dataframe tbody tr th:only-of-type {\n",
       "        vertical-align: middle;\n",
       "    }\n",
       "\n",
       "    .dataframe tbody tr th {\n",
       "        vertical-align: top;\n",
       "    }\n",
       "\n",
       "    .dataframe thead th {\n",
       "        text-align: right;\n",
       "    }\n",
       "</style>\n",
       "<table border=\"1\" class=\"dataframe\">\n",
       "  <thead>\n",
       "    <tr style=\"text-align: right;\">\n",
       "      <th></th>\n",
       "      <th>TP</th>\n",
       "      <th>TN</th>\n",
       "      <th>FP</th>\n",
       "      <th>FN</th>\n",
       "      <th>UA</th>\n",
       "      <th>PA</th>\n",
       "      <th>OA</th>\n",
       "      <th>BOA</th>\n",
       "    </tr>\n",
       "  </thead>\n",
       "  <tbody>\n",
       "    <tr>\n",
       "      <th>CLEAR</th>\n",
       "      <td>7818</td>\n",
       "      <td>8190</td>\n",
       "      <td>864</td>\n",
       "      <td>479</td>\n",
       "      <td>90.05%</td>\n",
       "      <td>94.23%</td>\n",
       "      <td>92.26%</td>\n",
       "      <td>92.34%</td>\n",
       "    </tr>\n",
       "    <tr>\n",
       "      <th>CLOUD</th>\n",
       "      <td>7164</td>\n",
       "      <td>8713</td>\n",
       "      <td>469</td>\n",
       "      <td>1005</td>\n",
       "      <td>93.86%</td>\n",
       "      <td>87.70%</td>\n",
       "      <td>91.50%</td>\n",
       "      <td>91.29%</td>\n",
       "    </tr>\n",
       "    <tr>\n",
       "      <th>SHADOW</th>\n",
       "      <td>792</td>\n",
       "      <td>15861</td>\n",
       "      <td>244</td>\n",
       "      <td>454</td>\n",
       "      <td>76.45%</td>\n",
       "      <td>63.56%</td>\n",
       "      <td>95.98%</td>\n",
       "      <td>81.02%</td>\n",
       "    </tr>\n",
       "  </tbody>\n",
       "</table>\n",
       "</div>"
      ],
      "text/plain": [
       "          TP     TN   FP    FN      UA      PA      OA     BOA\n",
       "CLEAR   7818   8190  864   479  90.05%  94.23%  92.26%  92.34%\n",
       "CLOUD   7164   8713  469  1005  93.86%  87.70%  91.50%  91.29%\n",
       "SHADOW   792  15861  244   454  76.45%  63.56%  95.98%  81.02%"
      ]
     },
     "execution_count": 19,
     "metadata": {},
     "output_type": "execute_result"
    }
   ],
   "source": [
    "model_summary"
   ]
  }
 ],
 "metadata": {
  "kernelspec": {
   "display_name": "omnicloudmask (3.11.11)",
   "language": "python",
   "name": "python3"
  },
  "language_info": {
   "codemirror_mode": {
    "name": "ipython",
    "version": 3
   },
   "file_extension": ".py",
   "mimetype": "text/x-python",
   "name": "python",
   "nbconvert_exporter": "python",
   "pygments_lexer": "ipython3",
   "version": "3.11.11"
  }
 },
 "nbformat": 4,
 "nbformat_minor": 2
}
