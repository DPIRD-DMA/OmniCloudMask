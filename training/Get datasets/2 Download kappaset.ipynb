{
 "cells": [
  {
   "cell_type": "markdown",
   "id": "9cfbe768",
   "metadata": {},
   "source": [
    "This notebook downloads the Kappaset dataset from zenodo\n",
    "\n",
    "The only thing you will need to change in this is the base_dataset_dir to a local drive with 300 GB of available storage"
   ]
  },
  {
   "cell_type": "code",
   "execution_count": 1,
   "id": "b44f3a51",
   "metadata": {},
   "outputs": [],
   "source": [
    "from pathlib import Path\n",
    "import rasterio as rio\n",
    "from tqdm.auto import tqdm\n",
    "import netCDF4\n",
    "import numpy as np\n",
    "import requests\n",
    "import zipfile\n",
    "from multiprocessing import Pool"
   ]
  },
  {
   "cell_type": "code",
   "execution_count": null,
   "id": "fc74211c",
   "metadata": {},
   "outputs": [],
   "source": [
    "base_dataset_dir = Path(\"/media/nick/4TB Working 7/Datasets/OCM datasets\")"
   ]
  },
  {
   "cell_type": "code",
   "execution_count": null,
   "id": "2f2d8b18",
   "metadata": {},
   "outputs": [],
   "source": [
    "dataset_url = \"https://zenodo.org/records/7100327/files/kappaset.zip\""
   ]
  },
  {
   "cell_type": "code",
   "execution_count": null,
   "id": "b09e397d",
   "metadata": {},
   "outputs": [],
   "source": [
    "kappaset_raw_dir = base_dataset_dir / \"Kappaset raw\"\n",
    "kappaset_raw_dir.mkdir(parents=True, exist_ok=True)"
   ]
  },
  {
   "cell_type": "code",
   "execution_count": null,
   "id": "927b26fc",
   "metadata": {},
   "outputs": [],
   "source": [
    "dst_dir = base_dataset_dir / \"Kappaset\"\n",
    "dst_dir.mkdir(exist_ok=True, parents=True)"
   ]
  },
  {
   "cell_type": "code",
   "execution_count": null,
   "id": "f51e7f1f",
   "metadata": {},
   "outputs": [],
   "source": [
    "# Full path for the downloaded file\n",
    "download_path = kappaset_raw_dir / \"kappaset.zip\"\n",
    "\n",
    "# Get the file size first\n",
    "response = requests.head(dataset_url)\n",
    "total_size = int(response.headers.get(\"content-length\", 0))\n",
    "\n",
    "# Download with progress bar\n",
    "response = requests.get(dataset_url, stream=True)\n",
    "response.raise_for_status()\n",
    "if not download_path.exists():\n",
    "    with (\n",
    "        download_path.open(\"wb\") as file,\n",
    "        tqdm(\n",
    "            desc=\"Downloading\",\n",
    "            total=total_size,\n",
    "            unit=\"B\",\n",
    "            unit_scale=True,\n",
    "            unit_divisor=1024,\n",
    "        ) as pbar,\n",
    "    ):\n",
    "        for chunk in response.iter_content(chunk_size=8192):\n",
    "            file.write(chunk)\n",
    "            pbar.update(len(chunk))\n",
    "\n",
    "    print(f\"Downloaded to: {download_path.absolute()}\")"
   ]
  },
  {
   "cell_type": "code",
   "execution_count": null,
   "id": "7dcc96be",
   "metadata": {},
   "outputs": [],
   "source": [
    "# Extract the zip file\n",
    "with zipfile.ZipFile(download_path, \"r\") as zip_ref:\n",
    "    zip_ref.extractall(kappaset_raw_dir)\n",
    "    print(f\"Extracted to: {kappaset_raw_dir.absolute()}\")"
   ]
  },
  {
   "cell_type": "code",
   "execution_count": null,
   "id": "f5bf51b2",
   "metadata": {},
   "outputs": [],
   "source": [
    "bands = [\"B04\", \"B03\", \"B8A\"]\n",
    "clip_size = 509"
   ]
  },
  {
   "cell_type": "code",
   "execution_count": null,
   "id": "a401075e",
   "metadata": {},
   "outputs": [],
   "source": [
    "nc_files = list(kappaset_raw_dir.rglob(\"[!.]*.nc\"))\n",
    "len(nc_files)"
   ]
  },
  {
   "cell_type": "code",
   "execution_count": null,
   "id": "daa947be",
   "metadata": {},
   "outputs": [],
   "source": [
    "nc_files[0]"
   ]
  },
  {
   "cell_type": "code",
   "execution_count": null,
   "id": "f8fdaa4a",
   "metadata": {},
   "outputs": [],
   "source": [
    "netcdf_file = netCDF4.Dataset(nc_files[0], \"r\")"
   ]
  },
  {
   "cell_type": "code",
   "execution_count": null,
   "id": "c69cbf1a",
   "metadata": {},
   "outputs": [],
   "source": [
    "def remap_label(label):\n",
    "    # 0-> 99\n",
    "    # 1-> 0\n",
    "    # 2-> 3\n",
    "    # 3-> 2\n",
    "    # 4-> 1\n",
    "    # 5-> 99\n",
    "    new_label = np.zeros_like(label, dtype=np.uint8)\n",
    "    new_label[label == 0] = 99\n",
    "    new_label[label == 1] = 0\n",
    "    new_label[label == 2] = 3\n",
    "    new_label[label == 3] = 2\n",
    "    new_label[label == 4] = 1\n",
    "    new_label[label == 5] = 99\n",
    "    return new_label"
   ]
  },
  {
   "cell_type": "code",
   "execution_count": null,
   "id": "8f8e7d06",
   "metadata": {},
   "outputs": [],
   "source": [
    "label_profile = {\n",
    "    \"driver\": \"GTiff\",\n",
    "    \"dtype\": \"uint8\",\n",
    "    \"count\": 1,\n",
    "    \"crs\": None,\n",
    "    \"transform\": None,\n",
    "    \"width\": clip_size,\n",
    "    \"height\": clip_size,\n",
    "    \"nodata\": None,\n",
    "    \"compression\": \"lzw\",\n",
    "}"
   ]
  },
  {
   "cell_type": "code",
   "execution_count": null,
   "id": "57ea4ad6",
   "metadata": {},
   "outputs": [],
   "source": [
    "image_profile = {\n",
    "    \"driver\": \"GTiff\",\n",
    "    \"dtype\": \"float32\",\n",
    "    \"count\": len(bands),\n",
    "    \"crs\": None,\n",
    "    \"transform\": None,\n",
    "    \"width\": clip_size,\n",
    "    \"height\": clip_size,\n",
    "    \"nodata\": None,\n",
    "}"
   ]
  },
  {
   "cell_type": "code",
   "execution_count": null,
   "id": "45274546",
   "metadata": {},
   "outputs": [],
   "source": [
    "# for nc_file in tqdm(nc_files):\n",
    "def process_nc_file(nc_file):\n",
    "    file_name = f\"Kappaset_{nc_file.name}\"\n",
    "\n",
    "    label_out_path = dst_dir / file_name.replace(\".nc\", \"_train_509_high_label.tif\")\n",
    "    image_out_path = dst_dir / file_name.replace(\".nc\", \"_train_509_high_image_l1c.tif\")\n",
    "\n",
    "    if label_out_path.exists() and image_out_path.exists():\n",
    "        return\n",
    "\n",
    "    dataset = netCDF4.Dataset(nc_file, \"r\")\n",
    "\n",
    "    label = dataset[\"Label\"][:].data[:clip_size, :clip_size]\n",
    "    new_label = remap_label(label)\n",
    "\n",
    "    image = []\n",
    "    for band in bands:\n",
    "        image.append(dataset[band][:].data[:clip_size, :clip_size])\n",
    "    image = np.array(image)\n",
    "\n",
    "    with rio.open(label_out_path, \"w\", **label_profile) as dst:\n",
    "        dst.write(new_label, 1)\n",
    "\n",
    "    with rio.open(image_out_path, \"w\", **image_profile) as dst:\n",
    "        dst.write(image)\n"
   ]
  },
  {
   "cell_type": "code",
   "execution_count": null,
   "id": "39bb2e45",
   "metadata": {},
   "outputs": [],
   "source": [
    "# for nc_file in tqdm(nc_files):\n",
    "#     process_nc_file(nc_file)\n",
    "\n",
    "with Pool() as pool:\n",
    "    list(tqdm(pool.imap(process_nc_file, nc_files), total=len(nc_files)))"
   ]
  }
 ],
 "metadata": {
  "kernelspec": {
   "display_name": "omnicloudmask (3.11.11)",
   "language": "python",
   "name": "python3"
  },
  "language_info": {
   "codemirror_mode": {
    "name": "ipython",
    "version": 3
   },
   "file_extension": ".py",
   "mimetype": "text/x-python",
   "name": "python",
   "nbconvert_exporter": "python",
   "pygments_lexer": "ipython3",
   "version": "3.11.11"
  }
 },
 "nbformat": 4,
 "nbformat_minor": 5
}
