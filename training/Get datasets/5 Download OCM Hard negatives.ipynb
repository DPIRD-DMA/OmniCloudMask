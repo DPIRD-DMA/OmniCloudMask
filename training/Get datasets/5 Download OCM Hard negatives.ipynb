{
 "cells": [
  {
   "cell_type": "markdown",
   "id": "1ad016aa",
   "metadata": {},
   "source": [
    "This notebook downloads a collection of hard negative examples from the Planetary Computer\n",
    "\n",
    "The only thing you will need to change in this is the base_dataset_dir to a local drive with 300 GB of available storage"
   ]
  },
  {
   "cell_type": "code",
   "execution_count": 1,
   "id": "9f1e3526",
   "metadata": {},
   "outputs": [],
   "source": [
    "from pathlib import Path\n",
    "import numpy as np\n",
    "import rasterio as rio\n",
    "from tqdm.auto import tqdm\n",
    "import pandas as pd\n",
    "from datetime import datetime\n",
    "import xarray as xr\n",
    "import cubo\n",
    "from rasterio.transform import from_origin\n",
    "from rasterio.crs import CRS\n",
    "from datetime import timedelta\n",
    "from multiprocessing.pool import ThreadPool"
   ]
  },
  {
   "cell_type": "code",
   "execution_count": null,
   "id": "30fc51ce",
   "metadata": {},
   "outputs": [],
   "source": [
    "base_dataset_dir = Path(\"/media/nick/4TB Working 7/Datasets/OCM datasets\")\n"
   ]
  },
  {
   "cell_type": "code",
   "execution_count": null,
   "id": "9a7e95a0",
   "metadata": {},
   "outputs": [],
   "source": [
    "hard_negative_dir = base_dataset_dir / \"Hard negative\"\n",
    "hard_negative_dir.mkdir(parents=True, exist_ok=True)"
   ]
  },
  {
   "cell_type": "code",
   "execution_count": null,
   "id": "fd5df29c",
   "metadata": {},
   "outputs": [],
   "source": [
    "dataset_csv_path = Path(\"OCM hard negative dataset metadata.csv\")"
   ]
  },
  {
   "cell_type": "code",
   "execution_count": null,
   "id": "5f57379e",
   "metadata": {},
   "outputs": [],
   "source": [
    "EDGE_PX = 509\n",
    "RES_M = 10  # 10 m request\n",
    "BANDS = [\"B04\", \"B03\", \"B8A\"]  # Red, Green, NIR-narrow"
   ]
  },
  {
   "cell_type": "code",
   "execution_count": null,
   "id": "a9c857c3",
   "metadata": {},
   "outputs": [],
   "source": [
    "dataset_metadata = pd.read_csv(dataset_csv_path)"
   ]
  },
  {
   "cell_type": "code",
   "execution_count": null,
   "id": "e9059e12",
   "metadata": {},
   "outputs": [],
   "source": [
    "def fetch_stack(\n",
    "    lat: float, lon: float, start_date: datetime, end_date: datetime, scene_id: str\n",
    ") -> xr.DataArray:\n",
    "    da = cubo.create(\n",
    "        lat=lat,\n",
    "        lon=lon,\n",
    "        collection=\"sentinel-2-l2a\",\n",
    "        bands=BANDS,\n",
    "        start_date=start_date.strftime(\"%Y-%m-%d\"),\n",
    "        end_date=end_date.strftime(\"%Y-%m-%d\"),\n",
    "        edge_size=EDGE_PX,\n",
    "        resolution=RES_M,\n",
    "    )\n",
    "    da = da.where(da[\"id\"] == scene_id, drop=True)\n",
    "    return da"
   ]
  },
  {
   "cell_type": "code",
   "execution_count": null,
   "id": "00ed3123",
   "metadata": {},
   "outputs": [],
   "source": [
    "def save_geotiff(\n",
    "    path: Path, chw_u16: np.ndarray, ref_da: xr.DataArray, crs: str\n",
    ") -> None:\n",
    "    \"\"\"\n",
    "    chw_u16 C H W uint16\n",
    "    ref_da is your xarray DataArray with coords x and y and attrs with epsg or proj:code\n",
    "    Writes a GeoTIFF with correct transform and CRS\n",
    "    \"\"\"\n",
    "    chw_u16 = chw_u16[:, :EDGE_PX, :EDGE_PX]  # crop to requested size\n",
    "    C, H, W = chw_u16.shape\n",
    "\n",
    "    x = ref_da.x.values\n",
    "    y = ref_da.y.values\n",
    "    # pixel size from coords\n",
    "    resx = float(np.mean(np.diff(x)))\n",
    "    resy = float(abs(np.mean(np.diff(y))))\n",
    "\n",
    "    # top left corner from centre coords\n",
    "    west = float(x[0] - resx / 2.0)\n",
    "    north = float(y[0] + resy / 2.0)\n",
    "    transform = from_origin(west, north, resx, resy)\n",
    "\n",
    "    crs = CRS.from_epsg(crs)\n",
    "\n",
    "    with rio.open(\n",
    "        path,\n",
    "        \"w\",\n",
    "        driver=\"GTiff\",\n",
    "        height=H,\n",
    "        width=W,\n",
    "        count=C,\n",
    "        dtype=\"uint16\",\n",
    "        crs=crs,\n",
    "        compress=\"lzw\",\n",
    "        transform=transform,\n",
    "    ) as dst:\n",
    "        dst.write(chw_u16)\n"
   ]
  },
  {
   "cell_type": "code",
   "execution_count": null,
   "id": "8d4c6cb2",
   "metadata": {},
   "outputs": [],
   "source": [
    "def make_mask(image_path):\n",
    "    src = rio.open(image_path)\n",
    "    mask = np.zeros([1, 509, 509]).astype(np.uint8)\n",
    "    file_name = image_path.name.replace(\"_image_l2a.tif\", \"_label.tif\")\n",
    "    assert file_name != image_path.name\n",
    "    profile = src.profile\n",
    "    profile.update(dtype=rio.uint8, count=1)\n",
    "    mask_path = hard_negative_dir / file_name\n",
    "    with rio.open(mask_path, \"w\", **profile) as dst:\n",
    "        dst.write(mask)\n",
    "    src.close()"
   ]
  },
  {
   "cell_type": "code",
   "execution_count": null,
   "id": "2a31617d",
   "metadata": {},
   "outputs": [],
   "source": [
    "def download_image(row):\n",
    "    try:\n",
    "        out_path = hard_negative_dir / row[\"filename\"]\n",
    "        if out_path.exists():\n",
    "            make_mask(out_path)\n",
    "            return\n",
    "\n",
    "        lat = row[\"center_lat\"]\n",
    "        lon = row[\"center_lon\"]\n",
    "        date_time = datetime.strptime(row[\"date_time\"], \"%Y%m%dT%H%M%S\")\n",
    "        crs = row[\"crs\"]\n",
    "        start_date = date_time - timedelta(days=3)\n",
    "        end_date = date_time + timedelta(days=3)\n",
    "        scene_id = row[\"source_scene\"]\n",
    "\n",
    "        da = fetch_stack(lat, lon, start_date, end_date, scene_id)\n",
    "        array = da.isel(time=0).values\n",
    "        array = np.nan_to_num(array, nan=0).astype(\"uint16\")\n",
    "\n",
    "        save_geotiff(out_path, array, da.isel(time=0), crs)\n",
    "        make_mask(out_path)\n",
    "    except Exception as e:\n",
    "        print(f\"Error processing row {row.name}: {e}\")"
   ]
  },
  {
   "cell_type": "code",
   "execution_count": null,
   "id": "01975953",
   "metadata": {},
   "outputs": [],
   "source": [
    "with ThreadPool(processes=2) as pool:\n",
    "    _ = list(\n",
    "        tqdm(\n",
    "            pool.imap(download_image, [row for _, row in dataset_metadata.iterrows()]),\n",
    "            total=len(dataset_metadata),\n",
    "        )\n",
    "    )"
   ]
  }
 ],
 "metadata": {
  "kernelspec": {
   "display_name": "omnicloudmask (3.11.11)",
   "language": "python",
   "name": "python3"
  },
  "language_info": {
   "codemirror_mode": {
    "name": "ipython",
    "version": 3
   },
   "file_extension": ".py",
   "mimetype": "text/x-python",
   "name": "python",
   "nbconvert_exporter": "python",
   "pygments_lexer": "ipython3",
   "version": "3.11.11"
  }
 },
 "nbformat": 4,
 "nbformat_minor": 5
}
