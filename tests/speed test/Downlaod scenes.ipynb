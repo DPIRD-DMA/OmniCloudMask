{
 "cells": [
  {
   "cell_type": "code",
   "execution_count": null,
   "id": "7f712662",
   "metadata": {},
   "outputs": [],
   "source": [
    "import gdown\n",
    "from pathlib import Path\n",
    "import zipfile"
   ]
  },
  {
   "cell_type": "code",
   "execution_count": null,
   "id": "9b9cd832",
   "metadata": {},
   "outputs": [],
   "source": [
    "scene_dir = Path.cwd() / \"speed test scenes\"\n",
    "scene_dir.mkdir(exist_ok=True, parents=True)"
   ]
  },
  {
   "cell_type": "code",
   "execution_count": null,
   "id": "1976d72b",
   "metadata": {},
   "outputs": [],
   "source": [
    "download_url = \"https://drive.google.com/drive/folders/1WyHN_M4eY2UsGB2m-R4FcLqTqjE0DkiH?usp=drive_link\""
   ]
  },
  {
   "cell_type": "code",
   "execution_count": null,
   "id": "23c7c4f0",
   "metadata": {},
   "outputs": [],
   "source": [
    "gdown.download_folder(download_url, quiet=True, output=str(scene_dir))"
   ]
  },
  {
   "cell_type": "code",
   "execution_count": 13,
   "id": "61f4b335",
   "metadata": {},
   "outputs": [],
   "source": [
    "zips = list(scene_dir.glob(\"*.zip\"))\n",
    "for z in zips:\n",
    "    with zipfile.ZipFile(z, \"r\") as zip_ref:\n",
    "        zip_ref.extractall(scene_dir)"
   ]
  }
 ],
 "metadata": {
  "kernelspec": {
   "display_name": ".venv",
   "language": "python",
   "name": "python3"
  },
  "language_info": {
   "codemirror_mode": {
    "name": "ipython",
    "version": 3
   },
   "file_extension": ".py",
   "mimetype": "text/x-python",
   "name": "python",
   "nbconvert_exporter": "python",
   "pygments_lexer": "ipython3",
   "version": "3.11.13"
  }
 },
 "nbformat": 4,
 "nbformat_minor": 5
}
