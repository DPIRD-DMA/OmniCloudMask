{
 "cells": [
  {
   "cell_type": "code",
   "execution_count": null,
   "id": "a94c300a",
   "metadata": {},
   "outputs": [],
   "source": [
    "import sys\n",
    "from pathlib import Path\n",
    "\n",
    "sys.path.append(Path.cwd().parents[1].as_posix())\n",
    "import omnicloudmask\n",
    "from omnicloudmask import (\n",
    "    predict_from_load_func,\n",
    "    load_s2,\n",
    ")"
   ]
  },
  {
   "cell_type": "code",
   "execution_count": null,
   "id": "68d0922b",
   "metadata": {},
   "outputs": [],
   "source": [
    "omnicloudmask.__version__"
   ]
  },
  {
   "cell_type": "code",
   "execution_count": null,
   "id": "6763010b",
   "metadata": {},
   "outputs": [],
   "source": [
    "scene_dir = Path.cwd() / \"speed test scenes\""
   ]
  },
  {
   "cell_type": "code",
   "execution_count": null,
   "id": "a4b13eeb",
   "metadata": {},
   "outputs": [],
   "source": [
    "scenes = list(scene_dir.glob(\"*.SAFE\"))"
   ]
  },
  {
   "cell_type": "code",
   "execution_count": null,
   "id": "ac74d5db",
   "metadata": {},
   "outputs": [],
   "source": [
    "predict_from_load_func(\n",
    "    scene_paths=scenes,\n",
    "    load_func=load_s2,\n",
    "    batch_size=4,\n",
    "    inference_dtype=\"bf16\",\n",
    ")"
   ]
  }
 ],
 "metadata": {
  "kernelspec": {
   "display_name": ".venv",
   "language": "python",
   "name": "python3"
  },
  "language_info": {
   "codemirror_mode": {
    "name": "ipython",
    "version": 3
   },
   "file_extension": ".py",
   "mimetype": "text/x-python",
   "name": "python",
   "nbconvert_exporter": "python",
   "pygments_lexer": "ipython3",
   "version": "3.11.13"
  }
 },
 "nbformat": 4,
 "nbformat_minor": 5
}
